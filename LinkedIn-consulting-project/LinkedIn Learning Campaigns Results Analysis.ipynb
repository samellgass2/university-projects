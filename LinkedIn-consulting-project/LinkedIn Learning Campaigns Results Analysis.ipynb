{
 "cells": [
  {
   "cell_type": "code",
   "execution_count": 101,
   "metadata": {},
   "outputs": [],
   "source": [
    "import numpy as np\n",
    "import pandas as pd\n",
    "import seaborn as sns\n",
    "from matplotlib import pyplot as plt"
   ]
  },
  {
   "cell_type": "markdown",
   "metadata": {},
   "source": [
    "# Analysis of LinkedIn Learning's Data Before and During our Campaigns"
   ]
  },
  {
   "cell_type": "code",
   "execution_count": 102,
   "metadata": {},
   "outputs": [
    {
     "data": {
      "text/html": [
       "<div>\n",
       "<style scoped>\n",
       "    .dataframe tbody tr th:only-of-type {\n",
       "        vertical-align: middle;\n",
       "    }\n",
       "\n",
       "    .dataframe tbody tr th {\n",
       "        vertical-align: top;\n",
       "    }\n",
       "\n",
       "    .dataframe thead th {\n",
       "        text-align: right;\n",
       "    }\n",
       "</style>\n",
       "<table border=\"1\" class=\"dataframe\">\n",
       "  <thead>\n",
       "    <tr style=\"text-align: right;\">\n",
       "      <th></th>\n",
       "      <th>Video</th>\n",
       "      <th>Course</th>\n",
       "      <th>Hours Viewed</th>\n",
       "      <th>Videos Completed</th>\n",
       "      <th>Video ID</th>\n",
       "      <th>Course ID</th>\n",
       "      <th>Course Language</th>\n",
       "      <th>Groups</th>\n",
       "    </tr>\n",
       "  </thead>\n",
       "  <tbody>\n",
       "    <tr>\n",
       "      <th>0</th>\n",
       "      <td>Is it you?</td>\n",
       "      <td>Working with Difficult People</td>\n",
       "      <td>0.0642</td>\n",
       "      <td>yes</td>\n",
       "      <td>658599</td>\n",
       "      <td>598481</td>\n",
       "      <td>English</td>\n",
       "      <td>edu:berkeley:official:students:undergraduate-s...</td>\n",
       "    </tr>\n",
       "    <tr>\n",
       "      <th>1</th>\n",
       "      <td>Welcome</td>\n",
       "      <td>Working with Difficult People</td>\n",
       "      <td>0.0164</td>\n",
       "      <td>yes</td>\n",
       "      <td>658597</td>\n",
       "      <td>598481</td>\n",
       "      <td>English</td>\n",
       "      <td>edu:berkeley:official:students:undergraduate-s...</td>\n",
       "    </tr>\n",
       "    <tr>\n",
       "      <th>2</th>\n",
       "      <td>Summing up</td>\n",
       "      <td>Working with Difficult People</td>\n",
       "      <td>0.0242</td>\n",
       "      <td>yes</td>\n",
       "      <td>658623</td>\n",
       "      <td>598481</td>\n",
       "      <td>English</td>\n",
       "      <td>edu:berkeley:official:students:undergraduate-s...</td>\n",
       "    </tr>\n",
       "    <tr>\n",
       "      <th>3</th>\n",
       "      <td>Micromanagers</td>\n",
       "      <td>Working with Difficult People</td>\n",
       "      <td>0.0592</td>\n",
       "      <td>yes</td>\n",
       "      <td>658621</td>\n",
       "      <td>598481</td>\n",
       "      <td>English</td>\n",
       "      <td>edu:berkeley:official:students:undergraduate-s...</td>\n",
       "    </tr>\n",
       "    <tr>\n",
       "      <th>4</th>\n",
       "      <td>When the difficult person is your boss</td>\n",
       "      <td>Working with Difficult People</td>\n",
       "      <td>0.1044</td>\n",
       "      <td>yes</td>\n",
       "      <td>658620</td>\n",
       "      <td>598481</td>\n",
       "      <td>English</td>\n",
       "      <td>edu:berkeley:official:students:undergraduate-s...</td>\n",
       "    </tr>\n",
       "  </tbody>\n",
       "</table>\n",
       "</div>"
      ],
      "text/plain": [
       "                                    Video                         Course  \\\n",
       "0                              Is it you?  Working with Difficult People   \n",
       "1                                 Welcome  Working with Difficult People   \n",
       "2                              Summing up  Working with Difficult People   \n",
       "3                           Micromanagers  Working with Difficult People   \n",
       "4  When the difficult person is your boss  Working with Difficult People   \n",
       "\n",
       "   Hours Viewed Videos Completed  Video ID  Course ID Course Language  \\\n",
       "0        0.0642              yes    658599     598481         English   \n",
       "1        0.0164              yes    658597     598481         English   \n",
       "2        0.0242              yes    658623     598481         English   \n",
       "3        0.0592              yes    658621     598481         English   \n",
       "4        0.1044              yes    658620     598481         English   \n",
       "\n",
       "                                              Groups  \n",
       "0  edu:berkeley:official:students:undergraduate-s...  \n",
       "1  edu:berkeley:official:students:undergraduate-s...  \n",
       "2  edu:berkeley:official:students:undergraduate-s...  \n",
       "3  edu:berkeley:official:students:undergraduate-s...  \n",
       "4  edu:berkeley:official:students:undergraduate-s...  "
      ]
     },
     "execution_count": 102,
     "metadata": {},
     "output_type": "execute_result"
    }
   ],
   "source": [
    "linkedindata = pd.read_csv(\"LinkedIn report.csv\")\n",
    "linkedindata.head()"
   ]
  },
  {
   "cell_type": "code",
   "execution_count": 103,
   "metadata": {},
   "outputs": [
    {
     "data": {
      "text/html": [
       "<div>\n",
       "<style scoped>\n",
       "    .dataframe tbody tr th:only-of-type {\n",
       "        vertical-align: middle;\n",
       "    }\n",
       "\n",
       "    .dataframe tbody tr th {\n",
       "        vertical-align: top;\n",
       "    }\n",
       "\n",
       "    .dataframe thead th {\n",
       "        text-align: right;\n",
       "    }\n",
       "</style>\n",
       "<table border=\"1\" class=\"dataframe\">\n",
       "  <thead>\n",
       "    <tr style=\"text-align: right;\">\n",
       "      <th></th>\n",
       "      <th>Video</th>\n",
       "      <th>Course</th>\n",
       "      <th>Hours Viewed</th>\n",
       "      <th>Videos Completed</th>\n",
       "      <th>Video ID</th>\n",
       "      <th>Course ID</th>\n",
       "      <th>Course Language</th>\n",
       "      <th>Groups</th>\n",
       "    </tr>\n",
       "  </thead>\n",
       "  <tbody>\n",
       "    <tr>\n",
       "      <th>0</th>\n",
       "      <td>The groundwork of coaching</td>\n",
       "      <td>Become a Better Coach for Your Team</td>\n",
       "      <td>0.0453</td>\n",
       "      <td>yes</td>\n",
       "      <td>2399338</td>\n",
       "      <td>2880061</td>\n",
       "      <td>English</td>\n",
       "      <td>edu:berkeley:official:employees:academic:all-a...</td>\n",
       "    </tr>\n",
       "    <tr>\n",
       "      <th>1</th>\n",
       "      <td>Fostering collaboration</td>\n",
       "      <td>Become a Better Coach for Your Team</td>\n",
       "      <td>0.0433</td>\n",
       "      <td>yes</td>\n",
       "      <td>2400294</td>\n",
       "      <td>2880061</td>\n",
       "      <td>English</td>\n",
       "      <td>edu:berkeley:official:employees:academic:all-a...</td>\n",
       "    </tr>\n",
       "    <tr>\n",
       "      <th>2</th>\n",
       "      <td>Setting the stage for coaching</td>\n",
       "      <td>Become a Better Coach for Your Team</td>\n",
       "      <td>0.0561</td>\n",
       "      <td>yes</td>\n",
       "      <td>2401259</td>\n",
       "      <td>2880061</td>\n",
       "      <td>English</td>\n",
       "      <td>edu:berkeley:official:employees:academic:all-a...</td>\n",
       "    </tr>\n",
       "    <tr>\n",
       "      <th>3</th>\n",
       "      <td>Focusing on the positive</td>\n",
       "      <td>Become a Better Coach for Your Team</td>\n",
       "      <td>0.0472</td>\n",
       "      <td>yes</td>\n",
       "      <td>2401261</td>\n",
       "      <td>2880061</td>\n",
       "      <td>English</td>\n",
       "      <td>edu:berkeley:official:employees:academic:all-a...</td>\n",
       "    </tr>\n",
       "    <tr>\n",
       "      <th>4</th>\n",
       "      <td>Empowering employees to excel</td>\n",
       "      <td>Become a Better Coach for Your Team</td>\n",
       "      <td>0.0417</td>\n",
       "      <td>yes</td>\n",
       "      <td>2401260</td>\n",
       "      <td>2880061</td>\n",
       "      <td>English</td>\n",
       "      <td>edu:berkeley:official:employees:academic:all-a...</td>\n",
       "    </tr>\n",
       "  </tbody>\n",
       "</table>\n",
       "</div>"
      ],
      "text/plain": [
       "                            Video                               Course  \\\n",
       "0      The groundwork of coaching  Become a Better Coach for Your Team   \n",
       "1         Fostering collaboration  Become a Better Coach for Your Team   \n",
       "2  Setting the stage for coaching  Become a Better Coach for Your Team   \n",
       "3        Focusing on the positive  Become a Better Coach for Your Team   \n",
       "4   Empowering employees to excel  Become a Better Coach for Your Team   \n",
       "\n",
       "   Hours Viewed Videos Completed  Video ID  Course ID Course Language  \\\n",
       "0        0.0453              yes   2399338    2880061         English   \n",
       "1        0.0433              yes   2400294    2880061         English   \n",
       "2        0.0561              yes   2401259    2880061         English   \n",
       "3        0.0472              yes   2401261    2880061         English   \n",
       "4        0.0417              yes   2401260    2880061         English   \n",
       "\n",
       "                                              Groups  \n",
       "0  edu:berkeley:official:employees:academic:all-a...  \n",
       "1  edu:berkeley:official:employees:academic:all-a...  \n",
       "2  edu:berkeley:official:employees:academic:all-a...  \n",
       "3  edu:berkeley:official:employees:academic:all-a...  \n",
       "4  edu:berkeley:official:employees:academic:all-a...  "
      ]
     },
     "execution_count": 103,
     "metadata": {},
     "output_type": "execute_result"
    }
   ],
   "source": [
    "databeforeus = pd.read_csv(\"LinkedIn report (3:1-4:4).csv\")\n",
    "databeforeus.head()"
   ]
  },
  {
   "cell_type": "code",
   "execution_count": 104,
   "metadata": {},
   "outputs": [
    {
     "data": {
      "text/html": [
       "<div>\n",
       "<style scoped>\n",
       "    .dataframe tbody tr th:only-of-type {\n",
       "        vertical-align: middle;\n",
       "    }\n",
       "\n",
       "    .dataframe tbody tr th {\n",
       "        vertical-align: top;\n",
       "    }\n",
       "\n",
       "    .dataframe thead th {\n",
       "        text-align: right;\n",
       "    }\n",
       "</style>\n",
       "<table border=\"1\" class=\"dataframe\">\n",
       "  <thead>\n",
       "    <tr style=\"text-align: right;\">\n",
       "      <th></th>\n",
       "      <th>Video</th>\n",
       "      <th>Course</th>\n",
       "      <th>Hours Viewed</th>\n",
       "      <th>Videos Completed</th>\n",
       "      <th>Video ID</th>\n",
       "      <th>Course ID</th>\n",
       "      <th>Course Language</th>\n",
       "      <th>Groups</th>\n",
       "    </tr>\n",
       "  </thead>\n",
       "  <tbody>\n",
       "    <tr>\n",
       "      <th>0</th>\n",
       "      <td>Welcome</td>\n",
       "      <td>Working with Difficult People</td>\n",
       "      <td>0.0028</td>\n",
       "      <td>no</td>\n",
       "      <td>658597</td>\n",
       "      <td>598481</td>\n",
       "      <td>English</td>\n",
       "      <td>edu:berkeley:official:students:undergraduate-s...</td>\n",
       "    </tr>\n",
       "    <tr>\n",
       "      <th>1</th>\n",
       "      <td>Keep things moving</td>\n",
       "      <td>Project Management Foundations: Small Projects</td>\n",
       "      <td>0.0631</td>\n",
       "      <td>yes</td>\n",
       "      <td>743067</td>\n",
       "      <td>612167</td>\n",
       "      <td>English</td>\n",
       "      <td>edu:berkeley:official:employees:staff:all-staf...</td>\n",
       "    </tr>\n",
       "    <tr>\n",
       "      <th>2</th>\n",
       "      <td>Work through problems</td>\n",
       "      <td>Project Management Foundations: Small Projects</td>\n",
       "      <td>0.0667</td>\n",
       "      <td>yes</td>\n",
       "      <td>743068</td>\n",
       "      <td>612167</td>\n",
       "      <td>English</td>\n",
       "      <td>edu:berkeley:official:employees:staff:all-staf...</td>\n",
       "    </tr>\n",
       "    <tr>\n",
       "      <th>3</th>\n",
       "      <td>Approve the project plan</td>\n",
       "      <td>Project Management Foundations: Small Projects</td>\n",
       "      <td>0.0275</td>\n",
       "      <td>yes</td>\n",
       "      <td>743063</td>\n",
       "      <td>612167</td>\n",
       "      <td>English</td>\n",
       "      <td>edu:berkeley:official:employees:staff:all-staf...</td>\n",
       "    </tr>\n",
       "    <tr>\n",
       "      <th>4</th>\n",
       "      <td>Kick off the project</td>\n",
       "      <td>Project Management Foundations: Small Projects</td>\n",
       "      <td>0.0325</td>\n",
       "      <td>yes</td>\n",
       "      <td>743065</td>\n",
       "      <td>612167</td>\n",
       "      <td>English</td>\n",
       "      <td>edu:berkeley:official:employees:staff:all-staf...</td>\n",
       "    </tr>\n",
       "  </tbody>\n",
       "</table>\n",
       "</div>"
      ],
      "text/plain": [
       "                      Video                                          Course  \\\n",
       "0                   Welcome                   Working with Difficult People   \n",
       "1        Keep things moving  Project Management Foundations: Small Projects   \n",
       "2     Work through problems  Project Management Foundations: Small Projects   \n",
       "3  Approve the project plan  Project Management Foundations: Small Projects   \n",
       "4      Kick off the project  Project Management Foundations: Small Projects   \n",
       "\n",
       "   Hours Viewed Videos Completed  Video ID  Course ID Course Language  \\\n",
       "0        0.0028               no    658597     598481         English   \n",
       "1        0.0631              yes    743067     612167         English   \n",
       "2        0.0667              yes    743068     612167         English   \n",
       "3        0.0275              yes    743063     612167         English   \n",
       "4        0.0325              yes    743065     612167         English   \n",
       "\n",
       "                                              Groups  \n",
       "0  edu:berkeley:official:students:undergraduate-s...  \n",
       "1  edu:berkeley:official:employees:staff:all-staf...  \n",
       "2  edu:berkeley:official:employees:staff:all-staf...  \n",
       "3  edu:berkeley:official:employees:staff:all-staf...  \n",
       "4  edu:berkeley:official:employees:staff:all-staf...  "
      ]
     },
     "execution_count": 104,
     "metadata": {},
     "output_type": "execute_result"
    }
   ],
   "source": [
    "dataduringus = pd.read_csv(\"LinkedIn report (4:5-4:11).csv\")\n",
    "dataduringus.head()"
   ]
  },
  {
   "cell_type": "code",
   "execution_count": 154,
   "metadata": {},
   "outputs": [
    {
     "name": "stdout",
     "output_type": "stream",
     "text": [
      "(21743, 8) (3721, 8)\n",
      "(1649, 7) (442, 7)\n"
     ]
    }
   ],
   "source": [
    "print(databeforeus.shape, dataduringus.shape)\n",
    "print(databeforeus.groupby(\"Course\").count().shape, dataduringus.groupby(\"Course\").count().shape)"
   ]
  },
  {
   "cell_type": "code",
   "execution_count": 141,
   "metadata": {},
   "outputs": [
    {
     "data": {
      "text/html": [
       "<div>\n",
       "<style scoped>\n",
       "    .dataframe tbody tr th:only-of-type {\n",
       "        vertical-align: middle;\n",
       "    }\n",
       "\n",
       "    .dataframe tbody tr th {\n",
       "        vertical-align: top;\n",
       "    }\n",
       "\n",
       "    .dataframe thead th {\n",
       "        text-align: right;\n",
       "    }\n",
       "</style>\n",
       "<table border=\"1\" class=\"dataframe\">\n",
       "  <thead>\n",
       "    <tr style=\"text-align: right;\">\n",
       "      <th></th>\n",
       "      <th>Video</th>\n",
       "      <th>Course</th>\n",
       "      <th>Hours Viewed</th>\n",
       "      <th>Videos Completed</th>\n",
       "      <th>Video ID</th>\n",
       "      <th>Course ID</th>\n",
       "      <th>Course Language</th>\n",
       "    </tr>\n",
       "    <tr>\n",
       "      <th>Groups</th>\n",
       "      <th></th>\n",
       "      <th></th>\n",
       "      <th></th>\n",
       "      <th></th>\n",
       "      <th></th>\n",
       "      <th></th>\n",
       "      <th></th>\n",
       "    </tr>\n",
       "  </thead>\n",
       "  <tbody>\n",
       "    <tr>\n",
       "      <th>edu:berkeley:official:affiliates:ucpath-affiliates-all</th>\n",
       "      <td>57</td>\n",
       "      <td>57</td>\n",
       "      <td>57</td>\n",
       "      <td>57</td>\n",
       "      <td>57</td>\n",
       "      <td>57</td>\n",
       "      <td>57</td>\n",
       "    </tr>\n",
       "    <tr>\n",
       "      <th>edu:berkeley:official:affiliates:ucpath-affiliates-all, Staff as of 7/11/19, Staff Only 4/8/19</th>\n",
       "      <td>1</td>\n",
       "      <td>1</td>\n",
       "      <td>1</td>\n",
       "      <td>1</td>\n",
       "      <td>1</td>\n",
       "      <td>1</td>\n",
       "      <td>1</td>\n",
       "    </tr>\n",
       "    <tr>\n",
       "      <th>edu:berkeley:official:affiliates:ucpath-affiliates-all, edu:berkeley:official:employees:academic:all-academic</th>\n",
       "      <td>8</td>\n",
       "      <td>8</td>\n",
       "      <td>8</td>\n",
       "      <td>8</td>\n",
       "      <td>8</td>\n",
       "      <td>8</td>\n",
       "      <td>8</td>\n",
       "    </tr>\n",
       "    <tr>\n",
       "      <th>edu:berkeley:official:affiliates:ucpath-affiliates-all, edu:berkeley:official:employees:staff:all-staff, Staff, Staff as of 7/11/19, Staff Only 4/8/19</th>\n",
       "      <td>1</td>\n",
       "      <td>1</td>\n",
       "      <td>1</td>\n",
       "      <td>1</td>\n",
       "      <td>1</td>\n",
       "      <td>1</td>\n",
       "      <td>1</td>\n",
       "    </tr>\n",
       "    <tr>\n",
       "      <th>edu:berkeley:official:affiliates:ucpath-affiliates-all, edu:berkeley:official:students:graduate-students</th>\n",
       "      <td>1</td>\n",
       "      <td>1</td>\n",
       "      <td>1</td>\n",
       "      <td>1</td>\n",
       "      <td>1</td>\n",
       "      <td>1</td>\n",
       "      <td>1</td>\n",
       "    </tr>\n",
       "  </tbody>\n",
       "</table>\n",
       "</div>"
      ],
      "text/plain": [
       "                                                    Video  Course  \\\n",
       "Groups                                                              \n",
       "edu:berkeley:official:affiliates:ucpath-affilia...     57      57   \n",
       "edu:berkeley:official:affiliates:ucpath-affilia...      1       1   \n",
       "edu:berkeley:official:affiliates:ucpath-affilia...      8       8   \n",
       "edu:berkeley:official:affiliates:ucpath-affilia...      1       1   \n",
       "edu:berkeley:official:affiliates:ucpath-affilia...      1       1   \n",
       "\n",
       "                                                    Hours Viewed  \\\n",
       "Groups                                                             \n",
       "edu:berkeley:official:affiliates:ucpath-affilia...            57   \n",
       "edu:berkeley:official:affiliates:ucpath-affilia...             1   \n",
       "edu:berkeley:official:affiliates:ucpath-affilia...             8   \n",
       "edu:berkeley:official:affiliates:ucpath-affilia...             1   \n",
       "edu:berkeley:official:affiliates:ucpath-affilia...             1   \n",
       "\n",
       "                                                    Videos Completed  \\\n",
       "Groups                                                                 \n",
       "edu:berkeley:official:affiliates:ucpath-affilia...                57   \n",
       "edu:berkeley:official:affiliates:ucpath-affilia...                 1   \n",
       "edu:berkeley:official:affiliates:ucpath-affilia...                 8   \n",
       "edu:berkeley:official:affiliates:ucpath-affilia...                 1   \n",
       "edu:berkeley:official:affiliates:ucpath-affilia...                 1   \n",
       "\n",
       "                                                    Video ID  Course ID  \\\n",
       "Groups                                                                    \n",
       "edu:berkeley:official:affiliates:ucpath-affilia...        57         57   \n",
       "edu:berkeley:official:affiliates:ucpath-affilia...         1          1   \n",
       "edu:berkeley:official:affiliates:ucpath-affilia...         8          8   \n",
       "edu:berkeley:official:affiliates:ucpath-affilia...         1          1   \n",
       "edu:berkeley:official:affiliates:ucpath-affilia...         1          1   \n",
       "\n",
       "                                                    Course Language  \n",
       "Groups                                                               \n",
       "edu:berkeley:official:affiliates:ucpath-affilia...               57  \n",
       "edu:berkeley:official:affiliates:ucpath-affilia...                1  \n",
       "edu:berkeley:official:affiliates:ucpath-affilia...                8  \n",
       "edu:berkeley:official:affiliates:ucpath-affilia...                1  \n",
       "edu:berkeley:official:affiliates:ucpath-affilia...                1  "
      ]
     },
     "execution_count": 141,
     "metadata": {},
     "output_type": "execute_result"
    }
   ],
   "source": [
    "undergradusefordaybefore = databeforeus.groupby([\"Groups\"]).count().iloc[17,:][0] / 34\n",
    "dataduringus.groupby([\"Groups\"]).count().head()"
   ]
  },
  {
   "cell_type": "code",
   "execution_count": 142,
   "metadata": {},
   "outputs": [],
   "source": [
    "graduseperdayb4 = databeforeus.groupby([\"Groups\"]).count().iloc[15,:][0] / 34\n",
    "graduseperdayduring = dataduringus.groupby([\"Groups\"]).count().iloc[15,:][0] / 7"
   ]
  },
  {
   "cell_type": "code",
   "execution_count": 143,
   "metadata": {},
   "outputs": [],
   "source": [
    "undergradusefordayduring = dataduringus.groupby([\"Groups\"]).count().iloc[17,:][0] / 7"
   ]
  },
  {
   "cell_type": "markdown",
   "metadata": {},
   "source": [
    "# 1 - Macro Trends"
   ]
  },
  {
   "cell_type": "code",
   "execution_count": 144,
   "metadata": {},
   "outputs": [
    {
     "name": "stdout",
     "output_type": "stream",
     "text": [
      "Average daily users in the undergrad population during 3/1 - 4/4:  94.0\n",
      "Average daily users in the undergrad population during 4/4 - 4/11:  115.71428571428571\n",
      "thus, we saw a 23.100303951367774 % increase in undergrad users\n"
     ]
    },
    {
     "data": {
      "image/png": "[encoded data removed]",
      "text/plain": [
       "<Figure size 432x288 with 1 Axes>"
      ]
     },
     "metadata": {
      "needs_background": "light"
     },
     "output_type": "display_data"
    }
   ],
   "source": [
    "print(\"Average daily users in the undergrad population during 3/1 - 4/4: \", undergradusefordaybefore)\n",
    "print(\"Average daily users in the undergrad population during 4/4 - 4/11: \", undergradusefordayduring)\n",
    "sns.barplot(y = [undergradusefordaybefore, undergradusefordayduring], x = [\"Daily users 3/1 - 4/4\", \"Daily users 4/4 - 4/11\"])\n",
    "plt.title(\"Daily Undergrad users Before and During our Campaigns\")\n",
    "plt.ylabel(\"Average Users per day\")\n",
    "print(\"thus, we saw a\", (undergradusefordayduring / undergradusefordaybefore - 1) * 100 , \"% increase in undergrad users\")"
   ]
  },
  {
   "cell_type": "code",
   "execution_count": 145,
   "metadata": {},
   "outputs": [
    {
     "name": "stdout",
     "output_type": "stream",
     "text": [
      "Average daily users in the undergrad population during 3/1 - 4/4:  94.0\n",
      "Average daily users in the undergrad population during 4/4 - 4/11:  115.71428571428571\n",
      "thus, we saw a -35.80527752502274 % increase in undergrad users\n"
     ]
    },
    {
     "data": {
      "image/png": "[encoded data removed]",
      "text/plain": [
       "<Figure size 432x288 with 1 Axes>"
      ]
     },
     "metadata": {
      "needs_background": "light"
     },
     "output_type": "display_data"
    }
   ],
   "source": [
    "print(\"Average daily users in the undergrad population during 3/1 - 4/4: \", undergradusefordaybefore)\n",
    "print(\"Average daily users in the undergrad population during 4/4 - 4/11: \", undergradusefordayduring)\n",
    "sns.barplot(y = [graduseperdayb4, graduseperdayduring], x = [\"Daily users 3/1 - 4/4\", \"Daily users 4/4 - 4/11\"])\n",
    "plt.title(\"Daily Graduate Student users Before and During our Campaigns\")\n",
    "plt.ylabel(\"Average Users per day\")\n",
    "print(\"thus, we saw a\", (graduseperdayduring / graduseperdayb4 - 1) * 100 , \"% increase in undergrad users\")"
   ]
  },
  {
   "cell_type": "markdown",
   "metadata": {},
   "source": [
    "# 2 - Videos, Viewing Time, and Other Trends"
   ]
  },
  {
   "cell_type": "code",
   "execution_count": 146,
   "metadata": {},
   "outputs": [
    {
     "data": {
      "text/html": [
       "<div>\n",
       "<style scoped>\n",
       "    .dataframe tbody tr th:only-of-type {\n",
       "        vertical-align: middle;\n",
       "    }\n",
       "\n",
       "    .dataframe tbody tr th {\n",
       "        vertical-align: top;\n",
       "    }\n",
       "\n",
       "    .dataframe thead th {\n",
       "        text-align: right;\n",
       "    }\n",
       "</style>\n",
       "<table border=\"1\" class=\"dataframe\">\n",
       "  <thead>\n",
       "    <tr style=\"text-align: right;\">\n",
       "      <th></th>\n",
       "      <th>Video</th>\n",
       "      <th>Hours Viewed</th>\n",
       "      <th>Videos Completed</th>\n",
       "      <th>Video ID</th>\n",
       "      <th>Course ID</th>\n",
       "      <th>Course Language</th>\n",
       "      <th>Groups</th>\n",
       "    </tr>\n",
       "    <tr>\n",
       "      <th>Course</th>\n",
       "      <th></th>\n",
       "      <th></th>\n",
       "      <th></th>\n",
       "      <th></th>\n",
       "      <th></th>\n",
       "      <th></th>\n",
       "      <th></th>\n",
       "    </tr>\n",
       "  </thead>\n",
       "  <tbody>\n",
       "    <tr>\n",
       "      <th>Project Management Foundations</th>\n",
       "      <td>148</td>\n",
       "      <td>148</td>\n",
       "      <td>148</td>\n",
       "      <td>148</td>\n",
       "      <td>148</td>\n",
       "      <td>148</td>\n",
       "      <td>148</td>\n",
       "    </tr>\n",
       "    <tr>\n",
       "      <th>Git Essential Training: The Basics</th>\n",
       "      <td>93</td>\n",
       "      <td>93</td>\n",
       "      <td>93</td>\n",
       "      <td>93</td>\n",
       "      <td>93</td>\n",
       "      <td>93</td>\n",
       "      <td>93</td>\n",
       "    </tr>\n",
       "    <tr>\n",
       "      <th>Learning Grasshopper</th>\n",
       "      <td>90</td>\n",
       "      <td>90</td>\n",
       "      <td>90</td>\n",
       "      <td>90</td>\n",
       "      <td>90</td>\n",
       "      <td>90</td>\n",
       "      <td>90</td>\n",
       "    </tr>\n",
       "    <tr>\n",
       "      <th>Python Quick Start</th>\n",
       "      <td>62</td>\n",
       "      <td>62</td>\n",
       "      <td>62</td>\n",
       "      <td>62</td>\n",
       "      <td>62</td>\n",
       "      <td>62</td>\n",
       "      <td>62</td>\n",
       "    </tr>\n",
       "    <tr>\n",
       "      <th>Excel 2016 Essential Training</th>\n",
       "      <td>58</td>\n",
       "      <td>58</td>\n",
       "      <td>58</td>\n",
       "      <td>58</td>\n",
       "      <td>58</td>\n",
       "      <td>58</td>\n",
       "      <td>58</td>\n",
       "    </tr>\n",
       "    <tr>\n",
       "      <th>Strategic Partnerships</th>\n",
       "      <td>56</td>\n",
       "      <td>56</td>\n",
       "      <td>56</td>\n",
       "      <td>56</td>\n",
       "      <td>56</td>\n",
       "      <td>56</td>\n",
       "      <td>56</td>\n",
       "    </tr>\n",
       "    <tr>\n",
       "      <th>Data Science Foundations: Data Mining in Python</th>\n",
       "      <td>50</td>\n",
       "      <td>50</td>\n",
       "      <td>50</td>\n",
       "      <td>50</td>\n",
       "      <td>50</td>\n",
       "      <td>50</td>\n",
       "      <td>50</td>\n",
       "    </tr>\n",
       "    <tr>\n",
       "      <th>How to Have Fewer, Better Meetings</th>\n",
       "      <td>46</td>\n",
       "      <td>46</td>\n",
       "      <td>46</td>\n",
       "      <td>46</td>\n",
       "      <td>46</td>\n",
       "      <td>46</td>\n",
       "      <td>46</td>\n",
       "    </tr>\n",
       "    <tr>\n",
       "      <th>Design Thinking: Understanding the Process</th>\n",
       "      <td>45</td>\n",
       "      <td>45</td>\n",
       "      <td>45</td>\n",
       "      <td>45</td>\n",
       "      <td>45</td>\n",
       "      <td>45</td>\n",
       "      <td>45</td>\n",
       "    </tr>\n",
       "    <tr>\n",
       "      <th>MySQL Essential Training</th>\n",
       "      <td>43</td>\n",
       "      <td>43</td>\n",
       "      <td>43</td>\n",
       "      <td>43</td>\n",
       "      <td>43</td>\n",
       "      <td>43</td>\n",
       "      <td>43</td>\n",
       "    </tr>\n",
       "  </tbody>\n",
       "</table>\n",
       "</div>"
      ],
      "text/plain": [
       "                                                 Video  Hours Viewed  \\\n",
       "Course                                                                 \n",
       "Project Management Foundations                     148           148   \n",
       "Git Essential Training: The Basics                  93            93   \n",
       "Learning Grasshopper                                90            90   \n",
       "Python Quick Start                                  62            62   \n",
       "Excel 2016 Essential Training                       58            58   \n",
       "Strategic Partnerships                              56            56   \n",
       "Data Science Foundations: Data Mining in Python     50            50   \n",
       "How to Have Fewer, Better Meetings                  46            46   \n",
       "Design Thinking: Understanding the Process          45            45   \n",
       "MySQL Essential Training                            43            43   \n",
       "\n",
       "                                                 Videos Completed  Video ID  \\\n",
       "Course                                                                        \n",
       "Project Management Foundations                                148       148   \n",
       "Git Essential Training: The Basics                             93        93   \n",
       "Learning Grasshopper                                           90        90   \n",
       "Python Quick Start                                             62        62   \n",
       "Excel 2016 Essential Training                                  58        58   \n",
       "Strategic Partnerships                                         56        56   \n",
       "Data Science Foundations: Data Mining in Python                50        50   \n",
       "How to Have Fewer, Better Meetings                             46        46   \n",
       "Design Thinking: Understanding the Process                     45        45   \n",
       "MySQL Essential Training                                       43        43   \n",
       "\n",
       "                                                 Course ID  Course Language  \\\n",
       "Course                                                                        \n",
       "Project Management Foundations                         148              148   \n",
       "Git Essential Training: The Basics                      93               93   \n",
       "Learning Grasshopper                                    90               90   \n",
       "Python Quick Start                                      62               62   \n",
       "Excel 2016 Essential Training                           58               58   \n",
       "Strategic Partnerships                                  56               56   \n",
       "Data Science Foundations: Data Mining in Python         50               50   \n",
       "How to Have Fewer, Better Meetings                      46               46   \n",
       "Design Thinking: Understanding the Process              45               45   \n",
       "MySQL Essential Training                                43               43   \n",
       "\n",
       "                                                 Groups  \n",
       "Course                                                   \n",
       "Project Management Foundations                      148  \n",
       "Git Essential Training: The Basics                   93  \n",
       "Learning Grasshopper                                 90  \n",
       "Python Quick Start                                   62  \n",
       "Excel 2016 Essential Training                        58  \n",
       "Strategic Partnerships                               56  \n",
       "Data Science Foundations: Data Mining in Python      50  \n",
       "How to Have Fewer, Better Meetings                   46  \n",
       "Design Thinking: Understanding the Process           45  \n",
       "MySQL Essential Training                             43  "
      ]
     },
     "execution_count": 146,
     "metadata": {},
     "output_type": "execute_result"
    }
   ],
   "source": [
    "dataduringus.where(dataduringus[\"Groups\"] == \"edu:berkeley:official:students:undergraduate-students\", inplace=False)\n",
    "dataduringus = dataduringus.dropna()\n",
    "toptenclassesduringus = dataduringus.groupby([\"Course\"]).count().sort_values(\"Video\", ascending=False).head(10)\n",
    "toptenclassesduringus"
   ]
  },
  {
   "cell_type": "code",
   "execution_count": 147,
   "metadata": {},
   "outputs": [
    {
     "data": {
      "text/plain": [
       "Text(0.5, 0, 'Views')"
      ]
     },
     "execution_count": 147,
     "metadata": {},
     "output_type": "execute_result"
    },
    {
     "data": {
      "image/png": "[encoded data removed]",
      "text/plain": [
       "<Figure size 432x288 with 1 Axes>"
      ]
     },
     "metadata": {
      "needs_background": "light"
     },
     "output_type": "display_data"
    }
   ],
   "source": [
    "databeforeus.where(databeforeus[\"Groups\"] == \"edu:berkeley:official:students:undergraduate-students\", inplace=False)\n",
    "databeforeus = databeforeus.dropna()\n",
    "toptenclassesbeforeus = databeforeus.groupby([\"Course\"]).count().sort_values(\"Video\", ascending=False).head(10)\n",
    "vidlabels1 = toptenclassesbeforeus.index.to_numpy()\n",
    "vidcounts1 = toptenclassesbeforeus[\"Videos Completed\"].to_numpy()\n",
    "sns.barplot(y = vidlabels1, x = vidcounts1)\n",
    "plt.title(\"Most popular courses before our campaigns\")\n",
    "plt.xlabel(\"Views\")"
   ]
  },
  {
   "cell_type": "code",
   "execution_count": 148,
   "metadata": {},
   "outputs": [
    {
     "data": {
      "text/plain": [
       "Text(0.5, 0, 'Views')"
      ]
     },
     "execution_count": 148,
     "metadata": {},
     "output_type": "execute_result"
    },
    {
     "data": {
      "image/png": "[encoded data removed]",
      "text/plain": [
       "<Figure size 432x288 with 1 Axes>"
      ]
     },
     "metadata": {
      "needs_background": "light"
     },
     "output_type": "display_data"
    }
   ],
   "source": [
    "vidlabels2 = toptenclassesduringus.index.to_numpy()\n",
    "vidcounts2 = toptenclassesduringus[\"Videos Completed\"].to_numpy()\n",
    "sns.barplot(y = vidlabels2, x = vidcounts2)\n",
    "plt.title(\"Most popular courses during our campaigns\")\n",
    "plt.xlabel(\"Views\")"
   ]
  },
  {
   "cell_type": "code",
   "execution_count": 171,
   "metadata": {},
   "outputs": [],
   "source": [
    "avglengthwatchedb4 = databeforeus.where(databeforeus[\"Groups\"] == \"edu:berkeley:official:students:undergraduate-students\", inplace=False).groupby(\"Groups\").mean()"
   ]
  },
  {
   "cell_type": "code",
   "execution_count": 172,
   "metadata": {},
   "outputs": [],
   "source": [
    "avglengthwatchedduring = dataduringus.where(dataduringus[\"Groups\"] == \"edu:berkeley:official:students:undergraduate-students\", inplace=False).groupby(\"Groups\").mean()"
   ]
  },
  {
   "cell_type": "code",
   "execution_count": 163,
   "metadata": {},
   "outputs": [
    {
     "data": {
      "text/html": [
       "<div>\n",
       "<style scoped>\n",
       "    .dataframe tbody tr th:only-of-type {\n",
       "        vertical-align: middle;\n",
       "    }\n",
       "\n",
       "    .dataframe tbody tr th {\n",
       "        vertical-align: top;\n",
       "    }\n",
       "\n",
       "    .dataframe thead th {\n",
       "        text-align: right;\n",
       "    }\n",
       "</style>\n",
       "<table border=\"1\" class=\"dataframe\">\n",
       "  <thead>\n",
       "    <tr style=\"text-align: right;\">\n",
       "      <th></th>\n",
       "      <th>Hours Viewed</th>\n",
       "      <th>Video ID</th>\n",
       "      <th>Course ID</th>\n",
       "    </tr>\n",
       "    <tr>\n",
       "      <th>Groups</th>\n",
       "      <th></th>\n",
       "      <th></th>\n",
       "      <th></th>\n",
       "    </tr>\n",
       "  </thead>\n",
       "  <tbody>\n",
       "    <tr>\n",
       "      <th>edu:berkeley:official:students:undergraduate-students</th>\n",
       "      <td>4.54095</td>\n",
       "      <td>1.870915e+08</td>\n",
       "      <td>1.612449e+08</td>\n",
       "    </tr>\n",
       "  </tbody>\n",
       "</table>\n",
       "</div>"
      ],
      "text/plain": [
       "                                                    Hours Viewed  \\\n",
       "Groups                                                             \n",
       "edu:berkeley:official:students:undergraduate-st...       4.54095   \n",
       "\n",
       "                                                        Video ID     Course ID  \n",
       "Groups                                                                          \n",
       "edu:berkeley:official:students:undergraduate-st...  1.870915e+08  1.612449e+08  "
      ]
     },
     "execution_count": 163,
     "metadata": {},
     "output_type": "execute_result"
    }
   ],
   "source": [
    "ugviewsperdaybefore = databeforeus.where(databeforeus[\"Groups\"] == \"edu:berkeley:official:students:undergraduate-students\", inplace=False).groupby(\"Groups\").sum() / 34\n",
    "ugviewsperdaybefore"
   ]
  },
  {
   "cell_type": "code",
   "execution_count": 162,
   "metadata": {},
   "outputs": [
    {
     "data": {
      "text/html": [
       "<div>\n",
       "<style scoped>\n",
       "    .dataframe tbody tr th:only-of-type {\n",
       "        vertical-align: middle;\n",
       "    }\n",
       "\n",
       "    .dataframe tbody tr th {\n",
       "        vertical-align: top;\n",
       "    }\n",
       "\n",
       "    .dataframe thead th {\n",
       "        text-align: right;\n",
       "    }\n",
       "</style>\n",
       "<table border=\"1\" class=\"dataframe\">\n",
       "  <thead>\n",
       "    <tr style=\"text-align: right;\">\n",
       "      <th></th>\n",
       "      <th>Hours Viewed</th>\n",
       "      <th>Video ID</th>\n",
       "      <th>Course ID</th>\n",
       "    </tr>\n",
       "    <tr>\n",
       "      <th>Groups</th>\n",
       "      <th></th>\n",
       "      <th></th>\n",
       "      <th></th>\n",
       "    </tr>\n",
       "  </thead>\n",
       "  <tbody>\n",
       "    <tr>\n",
       "      <th>edu:berkeley:official:students:undergraduate-students</th>\n",
       "      <td>5.578486</td>\n",
       "      <td>2.252772e+08</td>\n",
       "      <td>1.685855e+08</td>\n",
       "    </tr>\n",
       "  </tbody>\n",
       "</table>\n",
       "</div>"
      ],
      "text/plain": [
       "                                                    Hours Viewed  \\\n",
       "Groups                                                             \n",
       "edu:berkeley:official:students:undergraduate-st...      5.578486   \n",
       "\n",
       "                                                        Video ID     Course ID  \n",
       "Groups                                                                          \n",
       "edu:berkeley:official:students:undergraduate-st...  2.252772e+08  1.685855e+08  "
      ]
     },
     "execution_count": 162,
     "metadata": {},
     "output_type": "execute_result"
    }
   ],
   "source": [
    "ugviewsperdayduring = dataduringus.where(dataduringus[\"Groups\"] == \"edu:berkeley:official:students:undergraduate-students\", inplace=False).groupby(\"Groups\").sum() /7\n",
    "ugviewsperdayduring"
   ]
  },
  {
   "cell_type": "code",
   "execution_count": 175,
   "metadata": {},
   "outputs": [
    {
     "name": "stdout",
     "output_type": "stream",
     "text": [
      "thus, we saw a 0.2050294395235852 % increase in average undergrad viewership length\n"
     ]
    },
    {
     "data": {
      "image/png": "[encoded data removed]",
      "text/plain": [
       "<Figure size 432x288 with 1 Axes>"
      ]
     },
     "metadata": {
      "needs_background": "light"
     },
     "output_type": "display_data"
    }
   ],
   "source": [
    "avglen = [avglengthwatchedb4.iloc[0,0], avglengthwatchedduring.iloc[0,0]]\n",
    "labels = [\"Between 3/1 - 4/4\", \"Between 4/4 - 4/11\"]\n",
    "sns.barplot(x = labels, y = avglen)\n",
    "plt.ylabel(\"Average length watched per video\")\n",
    "plt.title(\"Average Undergrad Length Watched Per Video\")\n",
    "print(\"thus, we saw a\", (avglengthwatchedb4.iloc[0,0] / avglengthwatchedduring.iloc[0,0] - 1) * 100 , \"% increase in average undergrad viewership length\")"
   ]
  },
  {
   "cell_type": "code",
   "execution_count": 176,
   "metadata": {},
   "outputs": [
    {
     "name": "stdout",
     "output_type": "stream",
     "text": [
      "thus, we saw a 22.848428506936468 % increase in undergrad viewership\n"
     ]
    },
    {
     "data": {
      "image/png": "[encoded data removed]",
      "text/plain": [
       "<Figure size 432x288 with 1 Axes>"
      ]
     },
     "metadata": {
      "needs_background": "light"
     },
     "output_type": "display_data"
    }
   ],
   "source": [
    "viewsperhour = [ugviewsperdaybefore.iloc[0,0], ugviewsperdayduring.iloc[0,0]]\n",
    "labels = [\"Between 3/1 - 4/4\", \"Between 4/4 - 4/11\"]\n",
    "sns.barplot(x = labels, y = viewsperhour)\n",
    "plt.ylabel(\"Averages hours viewed per day\")\n",
    "plt.title(\"Average Undergrad Viewership Per Day\")\n",
    "print(\"thus, we saw a\", (ugviewsperdayduring.iloc[0,0] / ugviewsperdaybefore.iloc[0,0] - 1) * 100 , \"% increase in undergrad viewership\")"
   ]
  },
  {
   "cell_type": "markdown",
   "metadata": {},
   "source": [
    "## <span style=\"color:blue\">Thoughts</span>\n",
    "- **An overall increase in daily hours watched and in viewership represents the main success of these campaigns**\n",
    "- Our marketing was targeted specifically at undergrad students, so seeing a decrease in grad students at the same time as an increase in undergrad students seems to be a positive, since the harder part of the semester seems to suggest that users should decrease overall\n",
    "- Another interesting note is that average length per video didn't change in a meningful way, which seems to make sense, as the population of interest, the UG group, didn't have any more reason to watch longer than before except perhaps being new to the platform\n",
    "- How much effect exactly the Berkeley Time campaign had was hard to assess, since the playlists that we promoted were fairly long, without access to user ID's, it's difficult to know who watched how much of each playlist\n",
    "    * still, we had a handful of courses that we promoted in the top 10, but that also could be due to the courses' current popularity, so as of now inconclusive\n",
    "    * but we do have the numbers to know that some 80 people clicked through, so that influence is not unnoticed. \n",
    "\n"
   ]
  }
 ],
 "metadata": {
  "kernelspec": {
   "display_name": "Python 3",
   "language": "python",
   "name": "python3"
  },
  "language_info": {
   "codemirror_mode": {
    "name": "ipython",
    "version": 3
   },
   "file_extension": ".py",
   "mimetype": "text/x-python",
   "name": "python",
   "nbconvert_exporter": "python",
   "pygments_lexer": "ipython3",
   "version": "3.8.8"
  }
 },
 "nbformat": 4,
 "nbformat_minor": 4
}
