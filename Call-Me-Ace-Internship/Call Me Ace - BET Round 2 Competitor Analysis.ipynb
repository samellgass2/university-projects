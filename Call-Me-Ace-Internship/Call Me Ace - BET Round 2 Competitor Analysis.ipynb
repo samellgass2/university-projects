{
 "cells": [
  {
   "cell_type": "markdown",
   "metadata": {},
   "source": [
    "# Call Me Ace - BET Round 2 Competitor Analysis"
   ]
  },
  {
   "cell_type": "code",
   "execution_count": 1,
   "metadata": {},
   "outputs": [],
   "source": [
    "import numpy as np\n",
    "import pandas as pd\n",
    "import seaborn as sns\n",
    "from matplotlib import pyplot as plt\n",
    "sns.set_theme(style=\"ticks\")"
   ]
  },
  {
   "cell_type": "markdown",
   "metadata": {},
   "source": [
    "## 1 - Data Cleaning"
   ]
  },
  {
   "cell_type": "code",
   "execution_count": 2,
   "metadata": {},
   "outputs": [
    {
     "name": "stdout",
     "output_type": "stream",
     "text": [
      "(50, 28)\n"
     ]
    },
    {
     "data": {
      "text/html": [
       "<div>\n",
       "<style scoped>\n",
       "    .dataframe tbody tr th:only-of-type {\n",
       "        vertical-align: middle;\n",
       "    }\n",
       "\n",
       "    .dataframe tbody tr th {\n",
       "        vertical-align: top;\n",
       "    }\n",
       "\n",
       "    .dataframe thead th {\n",
       "        text-align: right;\n",
       "    }\n",
       "</style>\n",
       "<table border=\"1\" class=\"dataframe\">\n",
       "  <thead>\n",
       "    <tr style=\"text-align: right;\">\n",
       "      <th></th>\n",
       "      <th>Artist Name</th>\n",
       "      <th>Tiktok link</th>\n",
       "      <th>Twitter link</th>\n",
       "      <th>FB link</th>\n",
       "      <th>IG link</th>\n",
       "      <th>Website</th>\n",
       "      <th>Mailing List?</th>\n",
       "      <th>X?</th>\n",
       "      <th>Round 2?</th>\n",
       "      <th>Round 3?</th>\n",
       "      <th>...</th>\n",
       "      <th>Tiktok likes + shares on BET posts (round 2)</th>\n",
       "      <th>Facebook likes on BET posts (round 2)</th>\n",
       "      <th>Total Follower Reach</th>\n",
       "      <th>Biggest Social Media Platform?</th>\n",
       "      <th>What have they posted?</th>\n",
       "      <th>What's working for them?</th>\n",
       "      <th>What's Not?</th>\n",
       "      <th>Other Major Social Media?</th>\n",
       "      <th>Other Commentary:</th>\n",
       "      <th>Post Mortem Report: Why did they / did they not make it?</th>\n",
       "    </tr>\n",
       "  </thead>\n",
       "  <tbody>\n",
       "    <tr>\n",
       "      <th>0</th>\n",
       "      <td>A.C. Wells</td>\n",
       "      <td>NaN</td>\n",
       "      <td>NaN</td>\n",
       "      <td>NaN</td>\n",
       "      <td>link</td>\n",
       "      <td>NaN</td>\n",
       "      <td>NaN</td>\n",
       "      <td>NaN</td>\n",
       "      <td>No</td>\n",
       "      <td>NaN</td>\n",
       "      <td>...</td>\n",
       "      <td>NaN</td>\n",
       "      <td>NaN</td>\n",
       "      <td>#REF!</td>\n",
       "      <td>#REF!</td>\n",
       "      <td>NaN</td>\n",
       "      <td>NaN</td>\n",
       "      <td>NaN</td>\n",
       "      <td>NaN</td>\n",
       "      <td>very low monthly listeners on Spotify</td>\n",
       "      <td>NaN</td>\n",
       "    </tr>\n",
       "    <tr>\n",
       "      <th>1</th>\n",
       "      <td>Ainae</td>\n",
       "      <td>NaN</td>\n",
       "      <td>link</td>\n",
       "      <td>link</td>\n",
       "      <td>link</td>\n",
       "      <td>link</td>\n",
       "      <td>Yes</td>\n",
       "      <td>x</td>\n",
       "      <td>Yes</td>\n",
       "      <td>No</td>\n",
       "      <td>...</td>\n",
       "      <td>0.0</td>\n",
       "      <td>0.0</td>\n",
       "      <td>990</td>\n",
       "      <td>biggest on instagram</td>\n",
       "      <td>1 grid post and one tweet</td>\n",
       "      <td>she seems to have pretty good engagement</td>\n",
       "      <td>NaN</td>\n",
       "      <td>posts often on youtube</td>\n",
       "      <td>She's a contestant on the current season of th...</td>\n",
       "      <td>NaN</td>\n",
       "    </tr>\n",
       "    <tr>\n",
       "      <th>2</th>\n",
       "      <td>Alexis France</td>\n",
       "      <td>NaN</td>\n",
       "      <td>NaN</td>\n",
       "      <td>link</td>\n",
       "      <td>link</td>\n",
       "      <td>None</td>\n",
       "      <td>No</td>\n",
       "      <td>NaN</td>\n",
       "      <td>Yes</td>\n",
       "      <td>No</td>\n",
       "      <td>...</td>\n",
       "      <td>0.0</td>\n",
       "      <td>150.0</td>\n",
       "      <td>200</td>\n",
       "      <td>IG is really inactive - FB is bigger, and that...</td>\n",
       "      <td>Regular posts on FB</td>\n",
       "      <td>Decent FB engagement, using a similar strategy...</td>\n",
       "      <td>Not leveraging IG</td>\n",
       "      <td>FB</td>\n",
       "      <td>NaN</td>\n",
       "      <td>NaN</td>\n",
       "    </tr>\n",
       "  </tbody>\n",
       "</table>\n",
       "<p>3 rows × 28 columns</p>\n",
       "</div>"
      ],
      "text/plain": [
       "     Artist Name Tiktok link Twitter link FB link IG link Website  \\\n",
       "0     A.C. Wells         NaN          NaN     NaN    link     NaN   \n",
       "1          Ainae         NaN         link    link    link    link   \n",
       "2  Alexis France         NaN          NaN    link    link    None   \n",
       "\n",
       "  Mailing List?   X? Round 2? Round 3?  ...  \\\n",
       "0           NaN  NaN       No      NaN  ...   \n",
       "1           Yes    x      Yes       No  ...   \n",
       "2            No  NaN      Yes       No  ...   \n",
       "\n",
       "  Tiktok likes + shares on BET posts (round 2)  \\\n",
       "0                                          NaN   \n",
       "1                                          0.0   \n",
       "2                                          0.0   \n",
       "\n",
       "  Facebook likes on BET posts (round 2) Total Follower Reach  \\\n",
       "0                                   NaN                #REF!   \n",
       "1                                   0.0                  990   \n",
       "2                                 150.0                  200   \n",
       "\n",
       "                      Biggest Social Media Platform?  \\\n",
       "0                                              #REF!   \n",
       "1                               biggest on instagram   \n",
       "2  IG is really inactive - FB is bigger, and that...   \n",
       "\n",
       "      What have they posted?  \\\n",
       "0                        NaN   \n",
       "1  1 grid post and one tweet   \n",
       "2        Regular posts on FB   \n",
       "\n",
       "                            What's working for them?         What's Not?  \\\n",
       "0                                                NaN                 NaN   \n",
       "1           she seems to have pretty good engagement                 NaN   \n",
       "2  Decent FB engagement, using a similar strategy...  Not leveraging IG    \n",
       "\n",
       "   Other Major Social Media?  \\\n",
       "0                        NaN   \n",
       "1     posts often on youtube   \n",
       "2                         FB   \n",
       "\n",
       "                                  Other Commentary:   \\\n",
       "0              very low monthly listeners on Spotify   \n",
       "1  She's a contestant on the current season of th...   \n",
       "2                                                NaN   \n",
       "\n",
       "   Post Mortem Report: Why did they / did they not make it?  \n",
       "0                                                NaN         \n",
       "1                                                NaN         \n",
       "2                                                NaN         \n",
       "\n",
       "[3 rows x 28 columns]"
      ]
     },
     "execution_count": 2,
     "metadata": {},
     "output_type": "execute_result"
    }
   ],
   "source": [
    "round2 = pd.read_csv(\"BET AmpliFind Competitor Analysis - [OLD] Round 2 - Top 25.csv\")\n",
    "print(round2.shape)\n",
    "round2.head(3)"
   ]
  },
  {
   "cell_type": "code",
   "execution_count": 3,
   "metadata": {},
   "outputs": [
    {
     "data": {
      "text/plain": [
       "Index(['Artist Name', 'Tiktok link', 'Twitter link', 'FB link', 'IG link',\n",
       "       'Website', 'Mailing List?', 'X?', 'Round 2?', 'Round 3?',\n",
       "       'Predicted R3?', 'Why/ Why not?', 'Expected R3?', 'Mark Them',\n",
       "       'IG follower count', 'IG Likes on all BET Round 2 posts', 'IG Posts',\n",
       "       'Twitter likes + rt on BET posts',\n",
       "       'Tiktok likes + shares on BET posts (round 2)',\n",
       "       'Facebook likes on BET posts (round 2)', 'Total Follower Reach',\n",
       "       'Biggest Social Media Platform?', 'What have they posted?',\n",
       "       'What's working for them?', 'What's Not?', 'Other Major Social Media?',\n",
       "       'Other Commentary: ',\n",
       "       'Post Mortem Report: Why did they / did they not make it?'],\n",
       "      dtype='object')"
      ]
     },
     "execution_count": 3,
     "metadata": {},
     "output_type": "execute_result"
    }
   ],
   "source": [
    "round2.columns"
   ]
  },
  {
   "cell_type": "code",
   "execution_count": 4,
   "metadata": {},
   "outputs": [],
   "source": [
    "round2numeric = round2.drop(labels = ['Tiktok link', 'Twitter link', 'FB link', 'IG link',\n",
    "       'Website', 'X?',  'Predicted R3?', 'Why/ Why not?', 'Expected R3?', 'Mark Them',\n",
    "                      'Biggest Social Media Platform?', 'What have they posted?',\n",
    "       \"What's working for them?\", \"What's Not?\", 'Other Major Social Media?',\n",
    "       'Other Commentary: ',\n",
    "       'Post Mortem Report: Why did they / did they not make it?'\n",
    "                     ], axis = 1)"
   ]
  },
  {
   "cell_type": "code",
   "execution_count": 5,
   "metadata": {},
   "outputs": [
    {
     "name": "stdout",
     "output_type": "stream",
     "text": [
      "(25, 11)\n"
     ]
    },
    {
     "data": {
      "text/html": [
       "<div>\n",
       "<style scoped>\n",
       "    .dataframe tbody tr th:only-of-type {\n",
       "        vertical-align: middle;\n",
       "    }\n",
       "\n",
       "    .dataframe tbody tr th {\n",
       "        vertical-align: top;\n",
       "    }\n",
       "\n",
       "    .dataframe thead th {\n",
       "        text-align: right;\n",
       "    }\n",
       "</style>\n",
       "<table border=\"1\" class=\"dataframe\">\n",
       "  <thead>\n",
       "    <tr style=\"text-align: right;\">\n",
       "      <th></th>\n",
       "      <th>Artist Name</th>\n",
       "      <th>Mailing List?</th>\n",
       "      <th>Round 2?</th>\n",
       "      <th>Round 3?</th>\n",
       "      <th>IG follower count</th>\n",
       "      <th>IG Likes on all BET Round 2 posts</th>\n",
       "      <th>IG Posts</th>\n",
       "      <th>Twitter likes + rt on BET posts</th>\n",
       "      <th>Tiktok likes + shares on BET posts (round 2)</th>\n",
       "      <th>Facebook likes on BET posts (round 2)</th>\n",
       "      <th>Total Follower Reach</th>\n",
       "    </tr>\n",
       "  </thead>\n",
       "  <tbody>\n",
       "    <tr>\n",
       "      <th>1</th>\n",
       "      <td>Ainae</td>\n",
       "      <td>1</td>\n",
       "      <td>1</td>\n",
       "      <td>0</td>\n",
       "      <td>4,711</td>\n",
       "      <td>800.0</td>\n",
       "      <td>2.0</td>\n",
       "      <td>190.0</td>\n",
       "      <td>0.0</td>\n",
       "      <td>0.0</td>\n",
       "      <td>990</td>\n",
       "    </tr>\n",
       "    <tr>\n",
       "      <th>2</th>\n",
       "      <td>Alexis France</td>\n",
       "      <td>0</td>\n",
       "      <td>1</td>\n",
       "      <td>0</td>\n",
       "      <td>546</td>\n",
       "      <td>50.0</td>\n",
       "      <td>1.0</td>\n",
       "      <td>0.0</td>\n",
       "      <td>0.0</td>\n",
       "      <td>150.0</td>\n",
       "      <td>200</td>\n",
       "    </tr>\n",
       "    <tr>\n",
       "      <th>3</th>\n",
       "      <td>Ashoka</td>\n",
       "      <td>0</td>\n",
       "      <td>1</td>\n",
       "      <td>0</td>\n",
       "      <td>3,989</td>\n",
       "      <td>200.0</td>\n",
       "      <td>1.0</td>\n",
       "      <td>0.0</td>\n",
       "      <td>0.0</td>\n",
       "      <td>0.0</td>\n",
       "      <td>200</td>\n",
       "    </tr>\n",
       "  </tbody>\n",
       "</table>\n",
       "</div>"
      ],
      "text/plain": [
       "     Artist Name  Mailing List?  Round 2?  Round 3? IG follower count  \\\n",
       "1          Ainae              1         1         0             4,711   \n",
       "2  Alexis France              0         1         0               546   \n",
       "3         Ashoka              0         1         0             3,989   \n",
       "\n",
       "   IG Likes on all BET Round 2 posts  IG Posts  \\\n",
       "1                              800.0       2.0   \n",
       "2                               50.0       1.0   \n",
       "3                              200.0       1.0   \n",
       "\n",
       "   Twitter likes + rt on BET posts  \\\n",
       "1                            190.0   \n",
       "2                              0.0   \n",
       "3                              0.0   \n",
       "\n",
       "   Tiktok likes + shares on BET posts (round 2)  \\\n",
       "1                                           0.0   \n",
       "2                                           0.0   \n",
       "3                                           0.0   \n",
       "\n",
       "   Facebook likes on BET posts (round 2) Total Follower Reach  \n",
       "1                                    0.0                  990  \n",
       "2                                  150.0                  200  \n",
       "3                                    0.0                  200  "
      ]
     },
     "execution_count": 5,
     "metadata": {},
     "output_type": "execute_result"
    }
   ],
   "source": [
    "round2clean = round2numeric[round2numeric[\"Round 2?\"] == \"Yes\"]\n",
    "print(round2clean.shape)\n",
    "round2cleaner = round2clean.replace(\"Yes\", 1).replace(\"No\", 0).fillna(0)\n",
    "round2cleaner.head(3)"
   ]
  },
  {
   "cell_type": "code",
   "execution_count": 6,
   "metadata": {},
   "outputs": [],
   "source": [
    "def decomma(stringlist):\n",
    "    newlist = []\n",
    "    for strng in stringlist:\n",
    "        newlist.append(int(strng.replace(\",\", '')))\n",
    "    return newlist"
   ]
  },
  {
   "cell_type": "code",
   "execution_count": 7,
   "metadata": {},
   "outputs": [],
   "source": [
    "igstrngs = round2cleaner[\"IG follower count\"].to_numpy()\n",
    "igstrngs = decomma(igstrngs)\n",
    "round2cleaner[\"IG follower count\"] = igstrngs"
   ]
  },
  {
   "cell_type": "code",
   "execution_count": 8,
   "metadata": {},
   "outputs": [],
   "source": [
    "TFRstrngs = round2cleaner[\"Total Follower Reach\"]\n",
    "TFRstrngs = decomma(TFRstrngs)\n",
    "round2cleaner[\"Total Follower Reach\"] = TFRstrngs"
   ]
  },
  {
   "cell_type": "code",
   "execution_count": 9,
   "metadata": {},
   "outputs": [
    {
     "data": {
      "text/plain": [
       "Artist Name                                      object\n",
       "Mailing List?                                     int64\n",
       "Round 2?                                          int64\n",
       "Round 3?                                          int64\n",
       "IG follower count                                 int64\n",
       "IG Likes on all BET Round 2 posts               float64\n",
       "IG Posts                                        float64\n",
       "Twitter likes + rt on BET posts                 float64\n",
       "Tiktok likes + shares on BET posts (round 2)    float64\n",
       "Facebook likes on BET posts (round 2)           float64\n",
       "Total Follower Reach                              int64\n",
       "dtype: object"
      ]
     },
     "execution_count": 9,
     "metadata": {},
     "output_type": "execute_result"
    }
   ],
   "source": [
    "round2cleaner.dtypes"
   ]
  },
  {
   "cell_type": "code",
   "execution_count": 10,
   "metadata": {},
   "outputs": [
    {
     "data": {
      "text/html": [
       "<div>\n",
       "<style scoped>\n",
       "    .dataframe tbody tr th:only-of-type {\n",
       "        vertical-align: middle;\n",
       "    }\n",
       "\n",
       "    .dataframe tbody tr th {\n",
       "        vertical-align: top;\n",
       "    }\n",
       "\n",
       "    .dataframe thead th {\n",
       "        text-align: right;\n",
       "    }\n",
       "</style>\n",
       "<table border=\"1\" class=\"dataframe\">\n",
       "  <thead>\n",
       "    <tr style=\"text-align: right;\">\n",
       "      <th></th>\n",
       "      <th>Mailing List?</th>\n",
       "      <th>Round 2?</th>\n",
       "      <th>Round 3?</th>\n",
       "      <th>IG follower count</th>\n",
       "      <th>IG Likes on all BET Round 2 posts</th>\n",
       "      <th>IG Posts</th>\n",
       "      <th>Twitter likes + rt on BET posts</th>\n",
       "      <th>Tiktok likes + shares on BET posts (round 2)</th>\n",
       "      <th>Facebook likes on BET posts (round 2)</th>\n",
       "      <th>Total Follower Reach</th>\n",
       "    </tr>\n",
       "  </thead>\n",
       "  <tbody>\n",
       "    <tr>\n",
       "      <th>1</th>\n",
       "      <td>0.72</td>\n",
       "      <td>0.0</td>\n",
       "      <td>-0.4</td>\n",
       "      <td>-6228.96</td>\n",
       "      <td>234.8</td>\n",
       "      <td>0.12</td>\n",
       "      <td>145.96</td>\n",
       "      <td>-6.48</td>\n",
       "      <td>-46.52</td>\n",
       "      <td>327.76</td>\n",
       "    </tr>\n",
       "    <tr>\n",
       "      <th>2</th>\n",
       "      <td>-0.28</td>\n",
       "      <td>0.0</td>\n",
       "      <td>-0.4</td>\n",
       "      <td>-10393.96</td>\n",
       "      <td>-515.2</td>\n",
       "      <td>-0.88</td>\n",
       "      <td>-44.04</td>\n",
       "      <td>-6.48</td>\n",
       "      <td>103.48</td>\n",
       "      <td>-462.24</td>\n",
       "    </tr>\n",
       "    <tr>\n",
       "      <th>3</th>\n",
       "      <td>-0.28</td>\n",
       "      <td>0.0</td>\n",
       "      <td>-0.4</td>\n",
       "      <td>-6950.96</td>\n",
       "      <td>-365.2</td>\n",
       "      <td>-0.88</td>\n",
       "      <td>-44.04</td>\n",
       "      <td>-6.48</td>\n",
       "      <td>-46.52</td>\n",
       "      <td>-462.24</td>\n",
       "    </tr>\n",
       "    <tr>\n",
       "      <th>4</th>\n",
       "      <td>-0.28</td>\n",
       "      <td>0.0</td>\n",
       "      <td>0.6</td>\n",
       "      <td>7860.04</td>\n",
       "      <td>734.8</td>\n",
       "      <td>1.12</td>\n",
       "      <td>-44.04</td>\n",
       "      <td>-6.48</td>\n",
       "      <td>-46.52</td>\n",
       "      <td>637.76</td>\n",
       "    </tr>\n",
       "    <tr>\n",
       "      <th>6</th>\n",
       "      <td>0.72</td>\n",
       "      <td>0.0</td>\n",
       "      <td>-0.4</td>\n",
       "      <td>-8139.96</td>\n",
       "      <td>-565.2</td>\n",
       "      <td>-1.88</td>\n",
       "      <td>30.96</td>\n",
       "      <td>-6.48</td>\n",
       "      <td>-46.52</td>\n",
       "      <td>-587.24</td>\n",
       "    </tr>\n",
       "  </tbody>\n",
       "</table>\n",
       "</div>"
      ],
      "text/plain": [
       "   Mailing List?  Round 2?  Round 3?  IG follower count  \\\n",
       "1           0.72       0.0      -0.4           -6228.96   \n",
       "2          -0.28       0.0      -0.4          -10393.96   \n",
       "3          -0.28       0.0      -0.4           -6950.96   \n",
       "4          -0.28       0.0       0.6            7860.04   \n",
       "6           0.72       0.0      -0.4           -8139.96   \n",
       "\n",
       "   IG Likes on all BET Round 2 posts  IG Posts  \\\n",
       "1                              234.8      0.12   \n",
       "2                             -515.2     -0.88   \n",
       "3                             -365.2     -0.88   \n",
       "4                              734.8      1.12   \n",
       "6                             -565.2     -1.88   \n",
       "\n",
       "   Twitter likes + rt on BET posts  \\\n",
       "1                           145.96   \n",
       "2                           -44.04   \n",
       "3                           -44.04   \n",
       "4                           -44.04   \n",
       "6                            30.96   \n",
       "\n",
       "   Tiktok likes + shares on BET posts (round 2)  \\\n",
       "1                                         -6.48   \n",
       "2                                         -6.48   \n",
       "3                                         -6.48   \n",
       "4                                         -6.48   \n",
       "6                                         -6.48   \n",
       "\n",
       "   Facebook likes on BET posts (round 2)  Total Follower Reach  \n",
       "1                                 -46.52                327.76  \n",
       "2                                 103.48               -462.24  \n",
       "3                                 -46.52               -462.24  \n",
       "4                                 -46.52                637.76  \n",
       "6                                 -46.52               -587.24  "
      ]
     },
     "execution_count": 10,
     "metadata": {},
     "output_type": "execute_result"
    }
   ],
   "source": [
    "numericdata = round2cleaner.iloc[:, 1:]\n",
    "target = numericdata[\"Round 3?\"]\n",
    "prematrixdata = numericdata.drop(\"Round 3?\", axis = 1)\n",
    "centereddata = numericdata - np.mean(numericdata, axis = 0)\n",
    "centereddata.head()"
   ]
  },
  {
   "cell_type": "code",
   "execution_count": 11,
   "metadata": {},
   "outputs": [
    {
     "name": "stdout",
     "output_type": "stream",
     "text": [
      "(25, 8) (25,)\n"
     ]
    }
   ],
   "source": [
    "datamatrix = prematrixdata.drop([\"Total Follower Reach\"], axis = 1).iloc[:, :].to_numpy()\n",
    "targetdata = target.to_numpy()\n",
    "print(datamatrix.shape, targetdata.shape)"
   ]
  },
  {
   "cell_type": "code",
   "execution_count": 12,
   "metadata": {},
   "outputs": [
    {
     "data": {
      "text/html": [
       "<div>\n",
       "<style scoped>\n",
       "    .dataframe tbody tr th:only-of-type {\n",
       "        vertical-align: middle;\n",
       "    }\n",
       "\n",
       "    .dataframe tbody tr th {\n",
       "        vertical-align: top;\n",
       "    }\n",
       "\n",
       "    .dataframe thead th {\n",
       "        text-align: right;\n",
       "    }\n",
       "</style>\n",
       "<table border=\"1\" class=\"dataframe\">\n",
       "  <thead>\n",
       "    <tr style=\"text-align: right;\">\n",
       "      <th></th>\n",
       "      <th>Mailing List?</th>\n",
       "      <th>Round 2?</th>\n",
       "      <th>IG follower count</th>\n",
       "      <th>IG Likes on all BET Round 2 posts</th>\n",
       "      <th>IG Posts</th>\n",
       "      <th>Twitter likes + rt on BET posts</th>\n",
       "      <th>Tiktok likes + shares on BET posts (round 2)</th>\n",
       "      <th>Facebook likes on BET posts (round 2)</th>\n",
       "      <th>Total Follower Reach</th>\n",
       "    </tr>\n",
       "    <tr>\n",
       "      <th>Round 3?</th>\n",
       "      <th></th>\n",
       "      <th></th>\n",
       "      <th></th>\n",
       "      <th></th>\n",
       "      <th></th>\n",
       "      <th></th>\n",
       "      <th></th>\n",
       "      <th></th>\n",
       "      <th></th>\n",
       "    </tr>\n",
       "  </thead>\n",
       "  <tbody>\n",
       "    <tr>\n",
       "      <th>0</th>\n",
       "      <td>0.266667</td>\n",
       "      <td>1.0</td>\n",
       "      <td>9694.533333</td>\n",
       "      <td>423.333333</td>\n",
       "      <td>0.866667</td>\n",
       "      <td>41.533333</td>\n",
       "      <td>0.0</td>\n",
       "      <td>38.266667</td>\n",
       "      <td>503.133333</td>\n",
       "    </tr>\n",
       "    <tr>\n",
       "      <th>1</th>\n",
       "      <td>0.300000</td>\n",
       "      <td>1.0</td>\n",
       "      <td>12808.100000</td>\n",
       "      <td>778.000000</td>\n",
       "      <td>3.400000</td>\n",
       "      <td>47.800000</td>\n",
       "      <td>16.2</td>\n",
       "      <td>58.900000</td>\n",
       "      <td>900.900000</td>\n",
       "    </tr>\n",
       "  </tbody>\n",
       "</table>\n",
       "</div>"
      ],
      "text/plain": [
       "          Mailing List?  Round 2?  IG follower count  \\\n",
       "Round 3?                                               \n",
       "0              0.266667       1.0        9694.533333   \n",
       "1              0.300000       1.0       12808.100000   \n",
       "\n",
       "          IG Likes on all BET Round 2 posts  IG Posts  \\\n",
       "Round 3?                                                \n",
       "0                                423.333333  0.866667   \n",
       "1                                778.000000  3.400000   \n",
       "\n",
       "          Twitter likes + rt on BET posts  \\\n",
       "Round 3?                                    \n",
       "0                               41.533333   \n",
       "1                               47.800000   \n",
       "\n",
       "          Tiktok likes + shares on BET posts (round 2)  \\\n",
       "Round 3?                                                 \n",
       "0                                                  0.0   \n",
       "1                                                 16.2   \n",
       "\n",
       "          Facebook likes on BET posts (round 2)  Total Follower Reach  \n",
       "Round 3?                                                               \n",
       "0                                     38.266667            503.133333  \n",
       "1                                     58.900000            900.900000  "
      ]
     },
     "execution_count": 12,
     "metadata": {},
     "output_type": "execute_result"
    }
   ],
   "source": [
    "winnersnlosers = round2cleaner.groupby([\"Round 3?\"]).mean()\n",
    "winnersnlosers"
   ]
  },
  {
   "cell_type": "markdown",
   "metadata": {},
   "source": [
    "## 2 - Exploratory Data Analysis"
   ]
  },
  {
   "cell_type": "code",
   "execution_count": 13,
   "metadata": {},
   "outputs": [
    {
     "data": {
      "text/plain": [
       "<matplotlib.lines.Line2D at 0x7f301519c1f0>"
      ]
     },
     "execution_count": 13,
     "metadata": {},
     "output_type": "execute_result"
    },
    {
     "data": {
      "image/png": "[encoded data removed]",
      "text/plain": [
       "<Figure size 424.55x360 with 1 Axes>"
      ]
     },
     "metadata": {},
     "output_type": "display_data"
    }
   ],
   "source": [
    "sns.displot(data = round2cleaner, x = \"IG Posts\", hue = \"Round 3?\")\n",
    "plt.title(\"IG Posts per User, Colored by Making it to Round 3\")\n",
    "plt.axvline(winnersnlosers.iloc[0,4], color = \"blue\", linewidth = 3)\n",
    "plt.axvline(winnersnlosers.iloc[1,4], color = \"orange\", linewidth = 3)"
   ]
  },
  {
   "cell_type": "code",
   "execution_count": 14,
   "metadata": {},
   "outputs": [
    {
     "data": {
      "text/plain": [
       "Text(0.5, 1.0, 'Likes Per User, Colored by Making it to Round 3')"
      ]
     },
     "execution_count": 14,
     "metadata": {},
     "output_type": "execute_result"
    },
    {
     "data": {
      "image/png": "[encoded data removed]",
      "text/plain": [
       "<Figure size 424.55x360 with 1 Axes>"
      ]
     },
     "metadata": {},
     "output_type": "display_data"
    }
   ],
   "source": [
    "sns.displot(data = round2cleaner, x = \"IG Likes on all BET Round 2 posts\", hue = \"Round 3?\")\n",
    "plt.title(\"Likes Per User, Colored by Making it to Round 3\")"
   ]
  },
  {
   "cell_type": "code",
   "execution_count": 15,
   "metadata": {},
   "outputs": [
    {
     "data": {
      "text/plain": [
       "Text(0.5, 1.0, 'Total Follower Reach per User, Colored by Making it to Round 3')"
      ]
     },
     "execution_count": 15,
     "metadata": {},
     "output_type": "execute_result"
    },
    {
     "data": {
      "image/png": "[encoded data removed]",
      "text/plain": [
       "<Figure size 424.55x360 with 1 Axes>"
      ]
     },
     "metadata": {},
     "output_type": "display_data"
    }
   ],
   "source": [
    "sns.displot(data = round2cleaner, x = \"Total Follower Reach\", hue = \"Round 3?\")\n",
    "plt.title(\"Total Follower Reach per User, Colored by Making it to Round 3\")"
   ]
  },
  {
   "cell_type": "code",
   "execution_count": 16,
   "metadata": {},
   "outputs": [
    {
     "data": {
      "text/plain": [
       "Text(0.5, 1.0, 'IG Posts vs. IG Likes with LLSE')"
      ]
     },
     "execution_count": 16,
     "metadata": {},
     "output_type": "execute_result"
    },
    {
     "data": {
      "image/png": "[encoded data removed]",
      "text/plain": [
       "<Figure size 432x288 with 1 Axes>"
      ]
     },
     "metadata": {},
     "output_type": "display_data"
    }
   ],
   "source": [
    "sns.regplot(data = round2cleaner, x = \"IG Likes on all BET Round 2 posts\", y = \"IG Posts\")\n",
    "plt.title(\"IG Posts vs. IG Likes with LLSE\")"
   ]
  },
  {
   "cell_type": "code",
   "execution_count": 23,
   "metadata": {
    "scrolled": false
   },
   "outputs": [
    {
     "data": {
      "text/plain": [
       "<seaborn.axisgrid.FacetGrid at 0x7f309df2a790>"
      ]
     },
     "execution_count": 23,
     "metadata": {},
     "output_type": "execute_result"
    },
    {
     "data": {
      "image/png": "[encoded data removed]",
      "text/plain": [
       "<Figure size 424.55x360 with 1 Axes>"
      ]
     },
     "metadata": {
      "needs_background": "light"
     },
     "output_type": "display_data"
    }
   ],
   "source": [
    "sns.displot(data = round2cleaner, x = \"IG Posts\", y = \"Total Follower Reach\", hue = \"Round 3?\")"
   ]
  },
  {
   "cell_type": "markdown",
   "metadata": {},
   "source": [
    "### Thoughts\n",
    "- First: number of IG posts is an almost **perfect** predictor of making it to round 3, due largely to the fact that so many artists suffered from *\"Dana Vaughns Syndrome* and refused to post multiple times, costing them the round\n",
    "- Second: on the other hand, IG likes **had a much less significant correlation with making it to round 3**, i.e. a strong follower base or a lot of posting is more significant than a wide reach, which also agrees with our qualitative findings\n",
    "- Third: Total Follower reach is closer to IG likes in that it's correlated with success but not a true predictor.\n",
    "- Finally, IG Posts and IG likes are **not strongly correlated**, thanks to a handful of people who posted just once and received a ton of likes, versus some people who posted a tremendous of number of times and got less attention, as to be expected"
   ]
  },
  {
   "cell_type": "markdown",
   "metadata": {},
   "source": [
    "## 3 - RFE Feature Selection for Assessment of Success Factors"
   ]
  },
  {
   "cell_type": "code",
   "execution_count": 17,
   "metadata": {},
   "outputs": [],
   "source": [
    "%matplotlib inline\n",
    "from sklearn.model_selection import train_test_split\n",
    "from sklearn.linear_model import LinearRegression\n",
    "from sklearn.feature_selection import RFE\n",
    "from sklearn.linear_model import RidgeCV, LassoCV, Ridge, Lasso"
   ]
  },
  {
   "cell_type": "code",
   "execution_count": 18,
   "metadata": {},
   "outputs": [
    {
     "data": {
      "text/plain": [
       "0.9992123740888874"
      ]
     },
     "execution_count": 18,
     "metadata": {},
     "output_type": "execute_result"
    },
    {
     "data": {
      "image/png": "[encoded data removed]",
      "text/plain": [
       "<Figure size 432x288 with 1 Axes>"
      ]
     },
     "metadata": {
      "needs_background": "light"
     },
     "output_type": "display_data"
    }
   ],
   "source": [
    "u, s, vt = np.linalg.svd(datamatrix, full_matrices = False)\n",
    "plt.stem(s)\n",
    "s[0] ** 2 / sum(s ** 2)"
   ]
  },
  {
   "cell_type": "code",
   "execution_count": 19,
   "metadata": {},
   "outputs": [],
   "source": [
    "numericblind = numericdata.drop([\"Round 3?\"], axis = 1)"
   ]
  },
  {
   "cell_type": "code",
   "execution_count": 20,
   "metadata": {},
   "outputs": [
    {
     "name": "stdout",
     "output_type": "stream",
     "text": [
      "Best alpha using built-in LassoCV: 10.000000\n",
      "Best score using built-in LassoCV: 0.515629\n"
     ]
    },
    {
     "data": {
      "text/plain": [
       "Mailing List?                                  -0.049195\n",
       "Round 2?                                        0.000000\n",
       "IG follower count                              -0.000002\n",
       "IG Likes on all BET Round 2 posts              -0.001993\n",
       "IG Posts                                        0.097164\n",
       "Twitter likes + rt on BET posts                -0.001945\n",
       "Tiktok likes + shares on BET posts (round 2)    0.008167\n",
       "Facebook likes on BET posts (round 2)          -0.002001\n",
       "Total Follower Reach                            0.002229\n",
       "dtype: float64"
      ]
     },
     "execution_count": 20,
     "metadata": {},
     "output_type": "execute_result"
    }
   ],
   "source": [
    "X = numericblind\n",
    "y = target\n",
    "reg = RidgeCV()\n",
    "reg.fit(X, y)\n",
    "print(\"Best alpha using built-in LassoCV: %f\" % reg.alpha_)\n",
    "print(\"Best score using built-in LassoCV: %f\" %reg.score(X,y))\n",
    "coef1 = pd.Series(reg.coef_, index = X.columns)\n",
    "coef1"
   ]
  },
  {
   "cell_type": "code",
   "execution_count": 21,
   "metadata": {},
   "outputs": [
    {
     "data": {
      "text/plain": [
       "Text(0.5, 1.0, 'Feature importance using Ridge Model')"
      ]
     },
     "execution_count": 21,
     "metadata": {},
     "output_type": "execute_result"
    },
    {
     "data": {
      "image/png": "[encoded data removed]",
      "text/plain": [
       "<Figure size 576x720 with 1 Axes>"
      ]
     },
     "metadata": {
      "needs_background": "light"
     },
     "output_type": "display_data"
    }
   ],
   "source": [
    "imp_coef = coef1.sort_values()\n",
    "import matplotlib\n",
    "matplotlib.rcParams['figure.figsize'] = (8.0, 10.0)\n",
    "imp_coef.plot(kind = \"barh\")\n",
    "plt.title(\"Feature importance using Ridge Model\")"
   ]
  },
  {
   "cell_type": "markdown",
   "metadata": {},
   "source": [
    "# Analysis\n",
    "- Numerically, the biggest indicator of success in this competition is **number of IG posts**, and what *Call Me Ace* and I have ascertained from that is that \"IG Posts\" is the best proxy for **effort** in this competition. We hypothesize that people who are willing to post 3,4,5 times are also willing to text their high school friends, to reach out to old group chats, to think of a way to get everyone they know as involved as possible. <br>\n",
    "\n",
    "\n",
    "- To that point, that explains why some other metrics that seem like they should be strong predictors of votes, which is essentially reach, such as **total follower reach** and **IG follower count**. However, \"IG follower count\", seems to have **no** bearing on the result, at least according to the Ridge model. <br> \n",
    "\n",
    "\n",
    "- **tl;dr**: follower count isn't the answer, neither is raw engagement, success is more accurately measured via how many channels and individual posts people are willing to make, and success also seems directly tied to how \"hungry\" an artist is, or how many channels they're willing to activate"
   ]
  }
 ],
 "metadata": {
  "kernelspec": {
   "display_name": "Python 3",
   "language": "python",
   "name": "python3"
  },
  "language_info": {
   "codemirror_mode": {
    "name": "ipython",
    "version": 3
   },
   "file_extension": ".py",
   "mimetype": "text/x-python",
   "name": "python",
   "nbconvert_exporter": "python",
   "pygments_lexer": "ipython3",
   "version": "3.8.8"
  }
 },
 "nbformat": 4,
 "nbformat_minor": 4
}
