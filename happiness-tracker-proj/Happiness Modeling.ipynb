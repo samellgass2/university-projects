{
 "cells": [
  {
   "cell_type": "markdown",
   "metadata": {},
   "source": [
    "# Happiness Modeling (Summer 2021)\n",
    "This summer, I endeavored to try and use statistics + data science to evaluate how my daily choices affect my average happiness. After recording 11 features of my day, plus a **\"happiness\"** score, I'm now working on building a model that reflects both my perception of my days as well as the numerical relationship among my collected data."
   ]
  },
  {
   "cell_type": "markdown",
   "metadata": {},
   "source": [
    "## 1.0 - Simple Multiple Regression and Reading In Data"
   ]
  },
  {
   "cell_type": "code",
   "execution_count": 1,
   "metadata": {},
   "outputs": [],
   "source": [
    "import pandas as pd\n",
    "import numpy as np\n",
    "import matplotlib.pyplot as plt"
   ]
  },
  {
   "cell_type": "code",
   "execution_count": 2,
   "metadata": {},
   "outputs": [],
   "source": [
    "from sklearn import linear_model as lm"
   ]
  },
  {
   "cell_type": "code",
   "execution_count": 3,
   "metadata": {},
   "outputs": [
    {
     "data": {
      "text/html": [
       "<div>\n",
       "<style scoped>\n",
       "    .dataframe tbody tr th:only-of-type {\n",
       "        vertical-align: middle;\n",
       "    }\n",
       "\n",
       "    .dataframe tbody tr th {\n",
       "        vertical-align: top;\n",
       "    }\n",
       "\n",
       "    .dataframe thead th {\n",
       "        text-align: right;\n",
       "    }\n",
       "</style>\n",
       "<table border=\"1\" class=\"dataframe\">\n",
       "  <thead>\n",
       "    <tr style=\"text-align: right;\">\n",
       "      <th></th>\n",
       "      <th>People Seen</th>\n",
       "      <th>Meals Eaten</th>\n",
       "      <th>Smoke</th>\n",
       "      <th>Drink</th>\n",
       "      <th>Catherine</th>\n",
       "      <th>Hours of sleep</th>\n",
       "      <th>Hours of Classes</th>\n",
       "      <th>Hours of music</th>\n",
       "      <th>Weather (rain = 0 to sun = 1)</th>\n",
       "      <th>Average (Day) Temperature</th>\n",
       "      <th>Hours of project/internship</th>\n",
       "      <th>Happiness?</th>\n",
       "    </tr>\n",
       "  </thead>\n",
       "  <tbody>\n",
       "    <tr>\n",
       "      <th>count</th>\n",
       "      <td>32.000000</td>\n",
       "      <td>32.000000</td>\n",
       "      <td>32.00000</td>\n",
       "      <td>32.000000</td>\n",
       "      <td>32.000000</td>\n",
       "      <td>32.000000</td>\n",
       "      <td>32.000000</td>\n",
       "      <td>32.00000</td>\n",
       "      <td>32.000000</td>\n",
       "      <td>32.000000</td>\n",
       "      <td>32.000000</td>\n",
       "      <td>32.00000</td>\n",
       "    </tr>\n",
       "    <tr>\n",
       "      <th>mean</th>\n",
       "      <td>32.375000</td>\n",
       "      <td>2.984375</td>\n",
       "      <td>2.09375</td>\n",
       "      <td>2.125000</td>\n",
       "      <td>0.593750</td>\n",
       "      <td>8.562500</td>\n",
       "      <td>2.062500</td>\n",
       "      <td>0.75000</td>\n",
       "      <td>0.756250</td>\n",
       "      <td>76.906250</td>\n",
       "      <td>3.218750</td>\n",
       "      <td>7.75000</td>\n",
       "    </tr>\n",
       "    <tr>\n",
       "      <th>std</th>\n",
       "      <td>39.549683</td>\n",
       "      <td>0.615451</td>\n",
       "      <td>2.51908</td>\n",
       "      <td>2.882092</td>\n",
       "      <td>0.482559</td>\n",
       "      <td>0.840027</td>\n",
       "      <td>1.501343</td>\n",
       "      <td>1.08509</td>\n",
       "      <td>0.154893</td>\n",
       "      <td>7.163345</td>\n",
       "      <td>3.192576</td>\n",
       "      <td>1.35003</td>\n",
       "    </tr>\n",
       "    <tr>\n",
       "      <th>min</th>\n",
       "      <td>4.000000</td>\n",
       "      <td>1.500000</td>\n",
       "      <td>0.00000</td>\n",
       "      <td>0.000000</td>\n",
       "      <td>0.000000</td>\n",
       "      <td>6.000000</td>\n",
       "      <td>0.000000</td>\n",
       "      <td>0.00000</td>\n",
       "      <td>0.300000</td>\n",
       "      <td>62.000000</td>\n",
       "      <td>0.000000</td>\n",
       "      <td>4.00000</td>\n",
       "    </tr>\n",
       "    <tr>\n",
       "      <th>25%</th>\n",
       "      <td>10.000000</td>\n",
       "      <td>2.875000</td>\n",
       "      <td>0.00000</td>\n",
       "      <td>0.000000</td>\n",
       "      <td>0.000000</td>\n",
       "      <td>8.000000</td>\n",
       "      <td>0.750000</td>\n",
       "      <td>0.00000</td>\n",
       "      <td>0.700000</td>\n",
       "      <td>70.000000</td>\n",
       "      <td>0.000000</td>\n",
       "      <td>7.00000</td>\n",
       "    </tr>\n",
       "    <tr>\n",
       "      <th>50%</th>\n",
       "      <td>20.000000</td>\n",
       "      <td>3.000000</td>\n",
       "      <td>1.00000</td>\n",
       "      <td>1.000000</td>\n",
       "      <td>1.000000</td>\n",
       "      <td>9.000000</td>\n",
       "      <td>2.000000</td>\n",
       "      <td>0.00000</td>\n",
       "      <td>0.800000</td>\n",
       "      <td>75.000000</td>\n",
       "      <td>4.000000</td>\n",
       "      <td>8.00000</td>\n",
       "    </tr>\n",
       "    <tr>\n",
       "      <th>75%</th>\n",
       "      <td>30.000000</td>\n",
       "      <td>3.500000</td>\n",
       "      <td>4.25000</td>\n",
       "      <td>4.000000</td>\n",
       "      <td>1.000000</td>\n",
       "      <td>9.000000</td>\n",
       "      <td>3.000000</td>\n",
       "      <td>1.00000</td>\n",
       "      <td>0.900000</td>\n",
       "      <td>80.000000</td>\n",
       "      <td>6.000000</td>\n",
       "      <td>9.00000</td>\n",
       "    </tr>\n",
       "    <tr>\n",
       "      <th>max</th>\n",
       "      <td>200.000000</td>\n",
       "      <td>4.000000</td>\n",
       "      <td>7.00000</td>\n",
       "      <td>10.000000</td>\n",
       "      <td>1.000000</td>\n",
       "      <td>10.000000</td>\n",
       "      <td>5.000000</td>\n",
       "      <td>4.00000</td>\n",
       "      <td>1.000000</td>\n",
       "      <td>92.000000</td>\n",
       "      <td>8.000000</td>\n",
       "      <td>9.00000</td>\n",
       "    </tr>\n",
       "  </tbody>\n",
       "</table>\n",
       "</div>"
      ],
      "text/plain": [
       "       People Seen  Meals Eaten     Smoke      Drink  Catherine  \\\n",
       "count    32.000000    32.000000  32.00000  32.000000  32.000000   \n",
       "mean     32.375000     2.984375   2.09375   2.125000   0.593750   \n",
       "std      39.549683     0.615451   2.51908   2.882092   0.482559   \n",
       "min       4.000000     1.500000   0.00000   0.000000   0.000000   \n",
       "25%      10.000000     2.875000   0.00000   0.000000   0.000000   \n",
       "50%      20.000000     3.000000   1.00000   1.000000   1.000000   \n",
       "75%      30.000000     3.500000   4.25000   4.000000   1.000000   \n",
       "max     200.000000     4.000000   7.00000  10.000000   1.000000   \n",
       "\n",
       "       Hours of sleep  Hours of Classes  Hours of music  \\\n",
       "count       32.000000         32.000000        32.00000   \n",
       "mean         8.562500          2.062500         0.75000   \n",
       "std          0.840027          1.501343         1.08509   \n",
       "min          6.000000          0.000000         0.00000   \n",
       "25%          8.000000          0.750000         0.00000   \n",
       "50%          9.000000          2.000000         0.00000   \n",
       "75%          9.000000          3.000000         1.00000   \n",
       "max         10.000000          5.000000         4.00000   \n",
       "\n",
       "       Weather (rain = 0 to sun = 1)  Average (Day) Temperature  \\\n",
       "count                      32.000000                  32.000000   \n",
       "mean                        0.756250                  76.906250   \n",
       "std                         0.154893                   7.163345   \n",
       "min                         0.300000                  62.000000   \n",
       "25%                         0.700000                  70.000000   \n",
       "50%                         0.800000                  75.000000   \n",
       "75%                         0.900000                  80.000000   \n",
       "max                         1.000000                  92.000000   \n",
       "\n",
       "       Hours of project/internship  Happiness?  \n",
       "count                    32.000000    32.00000  \n",
       "mean                      3.218750     7.75000  \n",
       "std                       3.192576     1.35003  \n",
       "min                       0.000000     4.00000  \n",
       "25%                       0.000000     7.00000  \n",
       "50%                       4.000000     8.00000  \n",
       "75%                       6.000000     9.00000  \n",
       "max                       8.000000     9.00000  "
      ]
     },
     "execution_count": 3,
     "metadata": {},
     "output_type": "execute_result"
    }
   ],
   "source": [
    "happiness = pd.read_csv('Responsibility Sheet - Happiness Tracking Raw Data.csv')\n",
    "happiness.describe()"
   ]
  },
  {
   "cell_type": "code",
   "execution_count": 4,
   "metadata": {},
   "outputs": [
    {
     "data": {
      "text/html": [
       "<div>\n",
       "<style scoped>\n",
       "    .dataframe tbody tr th:only-of-type {\n",
       "        vertical-align: middle;\n",
       "    }\n",
       "\n",
       "    .dataframe tbody tr th {\n",
       "        vertical-align: top;\n",
       "    }\n",
       "\n",
       "    .dataframe thead th {\n",
       "        text-align: right;\n",
       "    }\n",
       "</style>\n",
       "<table border=\"1\" class=\"dataframe\">\n",
       "  <thead>\n",
       "    <tr style=\"text-align: right;\">\n",
       "      <th></th>\n",
       "      <th>People Seen</th>\n",
       "      <th>Meals Eaten</th>\n",
       "      <th>Smoke</th>\n",
       "      <th>Drink</th>\n",
       "      <th>Catherine</th>\n",
       "      <th>Hours of sleep</th>\n",
       "      <th>Hours of Classes</th>\n",
       "      <th>Hours of music</th>\n",
       "      <th>Weather (rain = 0 to sun = 1)</th>\n",
       "      <th>Average (Day) Temperature</th>\n",
       "      <th>Hours of project/internship</th>\n",
       "    </tr>\n",
       "  </thead>\n",
       "  <tbody>\n",
       "    <tr>\n",
       "      <th>0</th>\n",
       "      <td>20</td>\n",
       "      <td>2.0</td>\n",
       "      <td>0</td>\n",
       "      <td>0</td>\n",
       "      <td>1.0</td>\n",
       "      <td>9</td>\n",
       "      <td>2</td>\n",
       "      <td>3.0</td>\n",
       "      <td>0.8</td>\n",
       "      <td>62</td>\n",
       "      <td>0.0</td>\n",
       "    </tr>\n",
       "    <tr>\n",
       "      <th>1</th>\n",
       "      <td>200</td>\n",
       "      <td>3.0</td>\n",
       "      <td>0</td>\n",
       "      <td>0</td>\n",
       "      <td>1.0</td>\n",
       "      <td>8</td>\n",
       "      <td>2</td>\n",
       "      <td>1.0</td>\n",
       "      <td>0.5</td>\n",
       "      <td>70</td>\n",
       "      <td>0.0</td>\n",
       "    </tr>\n",
       "    <tr>\n",
       "      <th>2</th>\n",
       "      <td>10</td>\n",
       "      <td>3.0</td>\n",
       "      <td>0</td>\n",
       "      <td>4</td>\n",
       "      <td>0.0</td>\n",
       "      <td>7</td>\n",
       "      <td>0</td>\n",
       "      <td>0.5</td>\n",
       "      <td>0.9</td>\n",
       "      <td>92</td>\n",
       "      <td>0.0</td>\n",
       "    </tr>\n",
       "    <tr>\n",
       "      <th>3</th>\n",
       "      <td>20</td>\n",
       "      <td>4.0</td>\n",
       "      <td>4</td>\n",
       "      <td>0</td>\n",
       "      <td>0.0</td>\n",
       "      <td>10</td>\n",
       "      <td>0</td>\n",
       "      <td>0.0</td>\n",
       "      <td>1.0</td>\n",
       "      <td>90</td>\n",
       "      <td>0.0</td>\n",
       "    </tr>\n",
       "    <tr>\n",
       "      <th>4</th>\n",
       "      <td>8</td>\n",
       "      <td>3.0</td>\n",
       "      <td>0</td>\n",
       "      <td>8</td>\n",
       "      <td>1.0</td>\n",
       "      <td>6</td>\n",
       "      <td>2</td>\n",
       "      <td>0.0</td>\n",
       "      <td>0.4</td>\n",
       "      <td>80</td>\n",
       "      <td>0.0</td>\n",
       "    </tr>\n",
       "  </tbody>\n",
       "</table>\n",
       "</div>"
      ],
      "text/plain": [
       "   People Seen  Meals Eaten  Smoke  Drink  Catherine  Hours of sleep  \\\n",
       "0           20          2.0      0      0        1.0               9   \n",
       "1          200          3.0      0      0        1.0               8   \n",
       "2           10          3.0      0      4        0.0               7   \n",
       "3           20          4.0      4      0        0.0              10   \n",
       "4            8          3.0      0      8        1.0               6   \n",
       "\n",
       "   Hours of Classes  Hours of music  Weather (rain = 0 to sun = 1)  \\\n",
       "0                 2             3.0                            0.8   \n",
       "1                 2             1.0                            0.5   \n",
       "2                 0             0.5                            0.9   \n",
       "3                 0             0.0                            1.0   \n",
       "4                 2             0.0                            0.4   \n",
       "\n",
       "   Average (Day) Temperature  Hours of project/internship  \n",
       "0                         62                          0.0  \n",
       "1                         70                          0.0  \n",
       "2                         92                          0.0  \n",
       "3                         90                          0.0  \n",
       "4                         80                          0.0  "
      ]
     },
     "execution_count": 4,
     "metadata": {},
     "output_type": "execute_result"
    }
   ],
   "source": [
    "X = happiness.drop('Happiness?', axis = 1)\n",
    "X.head()"
   ]
  },
  {
   "cell_type": "code",
   "execution_count": 5,
   "metadata": {},
   "outputs": [],
   "source": [
    "y = happiness['Happiness?']"
   ]
  },
  {
   "cell_type": "code",
   "execution_count": 6,
   "metadata": {},
   "outputs": [],
   "source": [
    "cols = happiness.columns.tolist()"
   ]
  },
  {
   "cell_type": "code",
   "execution_count": 7,
   "metadata": {},
   "outputs": [],
   "source": [
    "model = lm.LinearRegression()"
   ]
  },
  {
   "cell_type": "code",
   "execution_count": 8,
   "metadata": {},
   "outputs": [
    {
     "data": {
      "text/plain": [
       "LinearRegression()"
      ]
     },
     "execution_count": 8,
     "metadata": {},
     "output_type": "execute_result"
    }
   ],
   "source": [
    "model.fit(X, y)"
   ]
  },
  {
   "cell_type": "code",
   "execution_count": 9,
   "metadata": {},
   "outputs": [
    {
     "data": {
      "text/plain": [
       "array([-0.00306911,  1.05925896, -0.11598901, -0.01252325,  0.43036675,\n",
       "       -0.26198092, -0.05084461,  0.13960742,  2.43397421, -0.03878101,\n",
       "       -0.13553599])"
      ]
     },
     "execution_count": 9,
     "metadata": {},
     "output_type": "execute_result"
    }
   ],
   "source": [
    "model.coef_"
   ]
  },
  {
   "cell_type": "code",
   "execution_count": 10,
   "metadata": {},
   "outputs": [
    {
     "name": "stdout",
     "output_type": "stream",
     "text": [
      "People Seen : -0.003069113621308019\n",
      "Meals Eaten : 1.0592589634590945\n",
      "Smoke : -0.11598900830273016\n",
      "Drink : -0.012523248612596044\n",
      "Catherine : 0.43036675246029144\n",
      "Hours of sleep : -0.26198092276728036\n",
      "Hours of Classes : -0.05084461455148112\n",
      "Hours of music : 0.13960741818310307\n",
      "Weather (rain = 0 to sun = 1) : 2.433974208343119\n",
      "Average (Day) Temperature : -0.038781011833341594\n",
      "Hours of project/internship : -0.13553599311844244\n",
      "with intercept = 8.523508993747292\n"
     ]
    }
   ],
   "source": [
    "for name, coef in zip(cols, model.coef_):\n",
    "    print(name, ':', coef)\n",
    "print('with intercept =', model.intercept_)"
   ]
  },
  {
   "cell_type": "code",
   "execution_count": 11,
   "metadata": {},
   "outputs": [
    {
     "data": {
      "text/html": [
       "<div>\n",
       "<style scoped>\n",
       "    .dataframe tbody tr th:only-of-type {\n",
       "        vertical-align: middle;\n",
       "    }\n",
       "\n",
       "    .dataframe tbody tr th {\n",
       "        vertical-align: top;\n",
       "    }\n",
       "\n",
       "    .dataframe thead th {\n",
       "        text-align: right;\n",
       "    }\n",
       "</style>\n",
       "<table border=\"1\" class=\"dataframe\">\n",
       "  <thead>\n",
       "    <tr style=\"text-align: right;\">\n",
       "      <th></th>\n",
       "      <th>People Seen</th>\n",
       "      <th>Meals Eaten</th>\n",
       "      <th>Smoke</th>\n",
       "      <th>Drink</th>\n",
       "      <th>Hours of sleep</th>\n",
       "      <th>Hours of Classes</th>\n",
       "      <th>Hours of music</th>\n",
       "      <th>Weather (rain = 0 to sun = 1)</th>\n",
       "      <th>Average (Day) Temperature</th>\n",
       "      <th>Hours of project/internship</th>\n",
       "      <th>Happiness?</th>\n",
       "    </tr>\n",
       "    <tr>\n",
       "      <th>Catherine</th>\n",
       "      <th></th>\n",
       "      <th></th>\n",
       "      <th></th>\n",
       "      <th></th>\n",
       "      <th></th>\n",
       "      <th></th>\n",
       "      <th></th>\n",
       "      <th></th>\n",
       "      <th></th>\n",
       "      <th></th>\n",
       "      <th></th>\n",
       "    </tr>\n",
       "  </thead>\n",
       "  <tbody>\n",
       "    <tr>\n",
       "      <th>0.0</th>\n",
       "      <td>24.666667</td>\n",
       "      <td>2.958333</td>\n",
       "      <td>2.416667</td>\n",
       "      <td>0.750000</td>\n",
       "      <td>8.583333</td>\n",
       "      <td>2.583333</td>\n",
       "      <td>0.583333</td>\n",
       "      <td>0.741667</td>\n",
       "      <td>79.500000</td>\n",
       "      <td>4.000000</td>\n",
       "      <td>7.166667</td>\n",
       "    </tr>\n",
       "    <tr>\n",
       "      <th>0.5</th>\n",
       "      <td>17.500000</td>\n",
       "      <td>3.500000</td>\n",
       "      <td>2.500000</td>\n",
       "      <td>0.500000</td>\n",
       "      <td>8.500000</td>\n",
       "      <td>1.500000</td>\n",
       "      <td>0.000000</td>\n",
       "      <td>0.725000</td>\n",
       "      <td>85.000000</td>\n",
       "      <td>2.500000</td>\n",
       "      <td>8.000000</td>\n",
       "    </tr>\n",
       "    <tr>\n",
       "      <th>1.0</th>\n",
       "      <td>39.166667</td>\n",
       "      <td>2.944444</td>\n",
       "      <td>1.833333</td>\n",
       "      <td>3.222222</td>\n",
       "      <td>8.555556</td>\n",
       "      <td>1.777778</td>\n",
       "      <td>0.944444</td>\n",
       "      <td>0.769444</td>\n",
       "      <td>74.277778</td>\n",
       "      <td>2.777778</td>\n",
       "      <td>8.111111</td>\n",
       "    </tr>\n",
       "  </tbody>\n",
       "</table>\n",
       "</div>"
      ],
      "text/plain": [
       "           People Seen  Meals Eaten     Smoke     Drink  Hours of sleep  \\\n",
       "Catherine                                                                 \n",
       "0.0          24.666667     2.958333  2.416667  0.750000        8.583333   \n",
       "0.5          17.500000     3.500000  2.500000  0.500000        8.500000   \n",
       "1.0          39.166667     2.944444  1.833333  3.222222        8.555556   \n",
       "\n",
       "           Hours of Classes  Hours of music  Weather (rain = 0 to sun = 1)  \\\n",
       "Catherine                                                                    \n",
       "0.0                2.583333        0.583333                       0.741667   \n",
       "0.5                1.500000        0.000000                       0.725000   \n",
       "1.0                1.777778        0.944444                       0.769444   \n",
       "\n",
       "           Average (Day) Temperature  Hours of project/internship  Happiness?  \n",
       "Catherine                                                                      \n",
       "0.0                        79.500000                     4.000000    7.166667  \n",
       "0.5                        85.000000                     2.500000    8.000000  \n",
       "1.0                        74.277778                     2.777778    8.111111  "
      ]
     },
     "execution_count": 11,
     "metadata": {},
     "output_type": "execute_result"
    }
   ],
   "source": [
    "cathpiness = happiness.groupby('Catherine').mean()\n",
    "cathpiness"
   ]
  },
  {
   "cell_type": "code",
   "execution_count": 12,
   "metadata": {},
   "outputs": [
    {
     "data": {
      "text/html": [
       "<div>\n",
       "<style scoped>\n",
       "    .dataframe tbody tr th:only-of-type {\n",
       "        vertical-align: middle;\n",
       "    }\n",
       "\n",
       "    .dataframe tbody tr th {\n",
       "        vertical-align: top;\n",
       "    }\n",
       "\n",
       "    .dataframe thead th {\n",
       "        text-align: right;\n",
       "    }\n",
       "</style>\n",
       "<table border=\"1\" class=\"dataframe\">\n",
       "  <thead>\n",
       "    <tr style=\"text-align: right;\">\n",
       "      <th></th>\n",
       "      <th>People Seen</th>\n",
       "      <th>Meals Eaten</th>\n",
       "      <th>Smoke</th>\n",
       "      <th>Drink</th>\n",
       "      <th>Catherine</th>\n",
       "      <th>Hours of sleep</th>\n",
       "      <th>Hours of Classes</th>\n",
       "      <th>Hours of music</th>\n",
       "      <th>Weather (rain = 0 to sun = 1)</th>\n",
       "      <th>Average (Day) Temperature</th>\n",
       "      <th>Hours of project/internship</th>\n",
       "      <th>Happiness?</th>\n",
       "    </tr>\n",
       "    <tr>\n",
       "      <th>Adjusted Catherine</th>\n",
       "      <th></th>\n",
       "      <th></th>\n",
       "      <th></th>\n",
       "      <th></th>\n",
       "      <th></th>\n",
       "      <th></th>\n",
       "      <th></th>\n",
       "      <th></th>\n",
       "      <th></th>\n",
       "      <th></th>\n",
       "      <th></th>\n",
       "      <th></th>\n",
       "    </tr>\n",
       "  </thead>\n",
       "  <tbody>\n",
       "    <tr>\n",
       "      <th>0.0</th>\n",
       "      <td>23.642857</td>\n",
       "      <td>3.035714</td>\n",
       "      <td>2.428571</td>\n",
       "      <td>0.714286</td>\n",
       "      <td>0.071429</td>\n",
       "      <td>8.571429</td>\n",
       "      <td>2.428571</td>\n",
       "      <td>0.500000</td>\n",
       "      <td>0.739286</td>\n",
       "      <td>80.285714</td>\n",
       "      <td>3.785714</td>\n",
       "      <td>7.285714</td>\n",
       "    </tr>\n",
       "    <tr>\n",
       "      <th>1.0</th>\n",
       "      <td>39.166667</td>\n",
       "      <td>2.944444</td>\n",
       "      <td>1.833333</td>\n",
       "      <td>3.222222</td>\n",
       "      <td>1.000000</td>\n",
       "      <td>8.555556</td>\n",
       "      <td>1.777778</td>\n",
       "      <td>0.944444</td>\n",
       "      <td>0.769444</td>\n",
       "      <td>74.277778</td>\n",
       "      <td>2.777778</td>\n",
       "      <td>8.111111</td>\n",
       "    </tr>\n",
       "  </tbody>\n",
       "</table>\n",
       "</div>"
      ],
      "text/plain": [
       "                    People Seen  Meals Eaten     Smoke     Drink  Catherine  \\\n",
       "Adjusted Catherine                                                            \n",
       "0.0                   23.642857     3.035714  2.428571  0.714286   0.071429   \n",
       "1.0                   39.166667     2.944444  1.833333  3.222222   1.000000   \n",
       "\n",
       "                    Hours of sleep  Hours of Classes  Hours of music  \\\n",
       "Adjusted Catherine                                                     \n",
       "0.0                       8.571429          2.428571        0.500000   \n",
       "1.0                       8.555556          1.777778        0.944444   \n",
       "\n",
       "                    Weather (rain = 0 to sun = 1)  Average (Day) Temperature  \\\n",
       "Adjusted Catherine                                                             \n",
       "0.0                                      0.739286                  80.285714   \n",
       "1.0                                      0.769444                  74.277778   \n",
       "\n",
       "                    Hours of project/internship  Happiness?  \n",
       "Adjusted Catherine                                           \n",
       "0.0                                    3.785714    7.285714  \n",
       "1.0                                    2.777778    8.111111  "
      ]
     },
     "execution_count": 12,
     "metadata": {},
     "output_type": "execute_result"
    }
   ],
   "source": [
    "# There are too few 0.5's for them to be their own class, so they're reasonably being absorbed by class 0\n",
    "happiness2 = happiness.copy()\n",
    "happiness2['Adjusted Catherine'] = happiness2['Catherine'].replace(0.5, 0)\n",
    "happiness2.groupby('Adjusted Catherine').mean()"
   ]
  },
  {
   "cell_type": "code",
   "execution_count": 13,
   "metadata": {},
   "outputs": [
    {
     "data": {
      "text/plain": [
       "Text(0.5, 1.0, 'Singular Values of Happiness')"
      ]
     },
     "execution_count": 13,
     "metadata": {},
     "output_type": "execute_result"
    },
    {
     "data": {
      "image/png": "[encoded data removed]",
      "text/plain": [
       "<Figure size 432x288 with 1 Axes>"
      ]
     },
     "metadata": {
      "needs_background": "light"
     },
     "output_type": "display_data"
    }
   ],
   "source": [
    "plt.stem(model.singular_)\n",
    "plt.title('Singular Values of Happiness')"
   ]
  },
  {
   "cell_type": "markdown",
   "metadata": {},
   "source": [
    "## 2.0 - Pivoting to More Advanced Modeling"
   ]
  },
  {
   "cell_type": "code",
   "execution_count": 14,
   "metadata": {},
   "outputs": [],
   "source": [
    "def comparemodels():\n",
    "    plt.bar(modelscoredict.keys(), modelscoredict.values())\n",
    "    plt.title('R^2 Values for All Models So Far');\n",
    "    \n",
    "def addmodel(name, model):\n",
    "    modelscoredict[name] = model.score(X, y)"
   ]
  },
  {
   "cell_type": "code",
   "execution_count": 15,
   "metadata": {},
   "outputs": [],
   "source": [
    "ridgemodel = lm.Ridge()"
   ]
  },
  {
   "cell_type": "code",
   "execution_count": 16,
   "metadata": {},
   "outputs": [
    {
     "data": {
      "text/plain": [
       "Ridge()"
      ]
     },
     "execution_count": 16,
     "metadata": {},
     "output_type": "execute_result"
    }
   ],
   "source": [
    "ridgemodel.fit(X, y)"
   ]
  },
  {
   "cell_type": "code",
   "execution_count": 17,
   "metadata": {},
   "outputs": [
    {
     "data": {
      "text/plain": [
       "array([-0.00456352,  1.00895157, -0.08824454, -0.01412213,  0.4709375 ,\n",
       "       -0.23919275, -0.10338372,  0.15165508,  0.84525308, -0.03154876,\n",
       "       -0.11449173])"
      ]
     },
     "execution_count": 17,
     "metadata": {},
     "output_type": "execute_result"
    }
   ],
   "source": [
    "ridgemodel.coef_"
   ]
  },
  {
   "cell_type": "code",
   "execution_count": 18,
   "metadata": {},
   "outputs": [
    {
     "data": {
      "text/plain": [
       "0.5550622435300578"
      ]
     },
     "execution_count": 18,
     "metadata": {},
     "output_type": "execute_result"
    }
   ],
   "source": [
    "modelscoredict = {}\n",
    "addmodel('Least Squares', model)\n",
    "model.score(X,y)"
   ]
  },
  {
   "cell_type": "code",
   "execution_count": 19,
   "metadata": {},
   "outputs": [
    {
     "data": {
      "text/plain": [
       "0.5306769104651177"
      ]
     },
     "execution_count": 19,
     "metadata": {},
     "output_type": "execute_result"
    }
   ],
   "source": [
    "addmodel('Ridge', ridgemodel)\n",
    "ridgemodel.score(X, y)"
   ]
  },
  {
   "cell_type": "code",
   "execution_count": 20,
   "metadata": {},
   "outputs": [
    {
     "name": "stdout",
     "output_type": "stream",
     "text": [
      "Weather (rain = 0 to sun = 1)  had the largest change, from  2.433974208343119  to  0.8452530844222512\n"
     ]
    },
    {
     "data": {
      "image/png": "[encoded data removed]",
      "text/plain": [
       "<Figure size 432x288 with 1 Axes>"
      ]
     },
     "metadata": {
      "needs_background": "light"
     },
     "output_type": "display_data"
    }
   ],
   "source": [
    "plt.stem(ridgemodel.coef_ - model.coef_)\n",
    "print(cols[8] , ' had the largest change, from ', model.coef_[8], ' to ', ridgemodel.coef_[8])"
   ]
  },
  {
   "cell_type": "code",
   "execution_count": 21,
   "metadata": {},
   "outputs": [
    {
     "data": {
      "text/plain": [
       "Text(0.5, 1.0, 'Least Squares Coefficients vs. Ridge Coefficients')"
      ]
     },
     "execution_count": 21,
     "metadata": {},
     "output_type": "execute_result"
    },
    {
     "data": {
      "image/png": "[encoded data removed]",
      "text/plain": [
       "<Figure size 432x288 with 1 Axes>"
      ]
     },
     "metadata": {
      "needs_background": "light"
     },
     "output_type": "display_data"
    }
   ],
   "source": [
    "plt.scatter(model.coef_, ridgemodel.coef_)\n",
    "plt.title('Least Squares Coefficients vs. Ridge Coefficients')"
   ]
  },
  {
   "cell_type": "code",
   "execution_count": 22,
   "metadata": {},
   "outputs": [
    {
     "name": "stdout",
     "output_type": "stream",
     "text": [
      "People Seen : -0.004563521884369156\n",
      "Meals Eaten : 1.0089515703859533\n",
      "Smoke : -0.08824453877259346\n",
      "Drink : -0.014122130356133512\n",
      "Catherine : 0.4709374984097137\n",
      "Hours of sleep : -0.23919274591961065\n",
      "Hours of Classes : -0.10338371867491869\n",
      "Hours of music : 0.15165508240955397\n",
      "Weather (rain = 0 to sun = 1) : 0.8452530844222512\n",
      "Average (Day) Temperature : -0.03154876337662614\n",
      "Hours of project/internship : -0.11449172994192139\n",
      "with intercept = 9.124976757503411\n"
     ]
    }
   ],
   "source": [
    "for name, coef in zip(cols, ridgemodel.coef_):\n",
    "    print(name, ':', coef)\n",
    "print('with intercept =', ridgemodel.intercept_)"
   ]
  },
  {
   "cell_type": "code",
   "execution_count": 23,
   "metadata": {},
   "outputs": [],
   "source": [
    "elasticmodel = lm.ElasticNet()"
   ]
  },
  {
   "cell_type": "code",
   "execution_count": 24,
   "metadata": {},
   "outputs": [
    {
     "data": {
      "text/plain": [
       "ElasticNet()"
      ]
     },
     "execution_count": 24,
     "metadata": {},
     "output_type": "execute_result"
    }
   ],
   "source": [
    "elasticmodel.fit(X, y)"
   ]
  },
  {
   "cell_type": "code",
   "execution_count": 25,
   "metadata": {},
   "outputs": [
    {
     "data": {
      "text/plain": [
       "array([-0.00440649,  0.        ,  0.        , -0.        ,  0.        ,\n",
       "       -0.        , -0.        ,  0.        ,  0.        , -0.0358706 ,\n",
       "       -0.05004338])"
      ]
     },
     "execution_count": 25,
     "metadata": {},
     "output_type": "execute_result"
    }
   ],
   "source": [
    "elasticmodel.coef_"
   ]
  },
  {
   "cell_type": "code",
   "execution_count": 26,
   "metadata": {},
   "outputs": [
    {
     "data": {
      "text/plain": [
       "0.09447648316593449"
      ]
     },
     "execution_count": 26,
     "metadata": {},
     "output_type": "execute_result"
    }
   ],
   "source": [
    "addmodel('Elastic', elasticmodel)\n",
    "elasticmodel.score(X, y)"
   ]
  },
  {
   "cell_type": "code",
   "execution_count": 27,
   "metadata": {},
   "outputs": [
    {
     "data": {
      "text/plain": [
       "5"
      ]
     },
     "execution_count": 27,
     "metadata": {},
     "output_type": "execute_result"
    }
   ],
   "source": [
    "testarr = [1,2,3,4,5,6]\n",
    "testarr.index(max(testarr))"
   ]
  },
  {
   "cell_type": "code",
   "execution_count": 28,
   "metadata": {},
   "outputs": [
    {
     "name": "stdout",
     "output_type": "stream",
     "text": [
      "Weather (rain = 0 to sun = 1)  had the largest change, from  2.433974208343119  to  0.0\n"
     ]
    },
    {
     "data": {
      "image/png": "[encoded data removed]",
      "text/plain": [
       "<Figure size 432x288 with 1 Axes>"
      ]
     },
     "metadata": {
      "needs_background": "light"
     },
     "output_type": "display_data"
    }
   ],
   "source": [
    "changes = elasticmodel.coef_ - model.coef_\n",
    "plt.stem(changes);\n",
    "changesmag = (abs(changes)).tolist()\n",
    "biggestdiff = changesmag.index(max(changesmag))\n",
    "print(cols[biggestdiff] , ' had the largest change, from ', model.coef_.tolist()[biggestdiff], ' to ', elasticmodel.coef_.tolist()[biggestdiff])"
   ]
  },
  {
   "cell_type": "code",
   "execution_count": 29,
   "metadata": {},
   "outputs": [
    {
     "name": "stdout",
     "output_type": "stream",
     "text": [
      "Meals Eaten  had the largest change, from  1.0089515703859533  to  0.0\n"
     ]
    },
    {
     "data": {
      "image/png": "[encoded data removed]",
      "text/plain": [
       "<Figure size 432x288 with 1 Axes>"
      ]
     },
     "metadata": {
      "needs_background": "light"
     },
     "output_type": "display_data"
    }
   ],
   "source": [
    "changes = elasticmodel.coef_ - ridgemodel.coef_\n",
    "plt.stem(changes);\n",
    "changesmag = (abs(changes)).tolist()\n",
    "biggestdiff = changesmag.index(max(changesmag))\n",
    "print(cols[biggestdiff] , ' had the largest change, from ', ridgemodel.coef_.tolist()[biggestdiff], ' to ', elasticmodel.coef_.tolist()[biggestdiff])"
   ]
  },
  {
   "cell_type": "code",
   "execution_count": 30,
   "metadata": {},
   "outputs": [
    {
     "data": {
      "image/png": "[encoded data removed]",
      "text/plain": [
       "<Figure size 432x288 with 1 Axes>"
      ]
     },
     "metadata": {
      "needs_background": "light"
     },
     "output_type": "display_data"
    }
   ],
   "source": [
    "comparemodels()"
   ]
  },
  {
   "cell_type": "code",
   "execution_count": 31,
   "metadata": {},
   "outputs": [
    {
     "name": "stdout",
     "output_type": "stream",
     "text": [
      "People Seen : -0.004406492089278952\n",
      "Meals Eaten : 0.0\n",
      "Smoke : 0.0\n",
      "Drink : -0.0\n",
      "Catherine : 0.0\n",
      "Hours of sleep : -0.0\n",
      "Hours of Classes : -0.0\n",
      "Hours of music : 0.0\n",
      "Weather (rain = 0 to sun = 1) : 0.0\n",
      "Average (Day) Temperature : -0.03587060096702997\n",
      "Hours of project/internship : -0.05004337897087917\n",
      "with intercept = 9.124976757503411\n"
     ]
    }
   ],
   "source": [
    "for name, coef in zip(cols, elasticmodel.coef_):\n",
    "    print(name, ':', coef)\n",
    "print('with intercept =', ridgemodel.intercept_)"
   ]
  },
  {
   "cell_type": "markdown",
   "metadata": {},
   "source": [
    "## 3.0 - Testing the Models"
   ]
  },
  {
   "cell_type": "code",
   "execution_count": 32,
   "metadata": {},
   "outputs": [],
   "source": [
    "# Extreme test cases and Regular test cases to Explore general Viability\n",
    "myworstday = np.array([0, 1, 0, 0, 0, 5, 10, 0, 0, 30, 10]).reshape(1, -1)\n",
    "mybestday = np.array([100, 3, 5, 0, 1, 9, 5, 2, 1, 70, 0]).reshape(1, -1)\n",
    "anaverageday = np.array([40, 3, 2, 1, 1, 8, 8, 1, 0.8, 75, 0]).reshape(1, -1)\n",
    "highschoolavg = np.array([50, 3, 0, 0, 0, 8, 6, 2, 0.7, 90, 0]).reshape(1, -1)\n",
    "tomorrowprob = np.array([20, 3, 0, 2, 1, 9, 2, 1, 0.8, 70, 7]).reshape(1, -1)\n",
    "tests = [myworstday, mybestday, anaverageday, highschoolavg, tomorrowprob]\n",
    "target = np.array([5, 10, 8, 8, 9])"
   ]
  },
  {
   "cell_type": "code",
   "execution_count": 33,
   "metadata": {},
   "outputs": [
    {
     "data": {
      "text/plain": [
       "5.245626911670501"
      ]
     },
     "execution_count": 33,
     "metadata": {},
     "output_type": "execute_result"
    }
   ],
   "source": [
    "model.predict(myworstday)[0]"
   ]
  },
  {
   "cell_type": "code",
   "execution_count": 34,
   "metadata": {},
   "outputs": [
    {
     "data": {
      "text/plain": [
       "5"
      ]
     },
     "execution_count": 34,
     "metadata": {},
     "output_type": "execute_result"
    }
   ],
   "source": [
    "target[tests.index(myworstday)]"
   ]
  },
  {
   "cell_type": "code",
   "execution_count": 35,
   "metadata": {},
   "outputs": [],
   "source": [
    "modelperformance = []\n",
    "rawmodelperformance = []\n",
    "for arch in [model, ridgemodel, elasticmodel]:\n",
    "    temp = 0\n",
    "    templist = []\n",
    "    targetindex = 0\n",
    "    for arr in tests:\n",
    "        score = arch.predict(arr)[0] - target[targetindex]\n",
    "        temp += score\n",
    "        templist.append(score)\n",
    "        targetindex += 1\n",
    "    modelperformance.append(temp)\n",
    "    rawmodelperformance.append(templist)"
   ]
  },
  {
   "cell_type": "code",
   "execution_count": 36,
   "metadata": {},
   "outputs": [
    {
     "data": {
      "image/png": "[encoded data removed]",
      "text/plain": [
       "<Figure size 432x288 with 1 Axes>"
      ]
     },
     "metadata": {
      "needs_background": "light"
     },
     "output_type": "display_data"
    }
   ],
   "source": [
    "plt.bar(modelscoredict.keys(), modelperformance)\n",
    "plt.title('Performance of the 3 Models on 5 Test Points');"
   ]
  },
  {
   "cell_type": "code",
   "execution_count": 37,
   "metadata": {},
   "outputs": [],
   "source": [
    "# Interestingly enough, Elastic actually performs best in the long run! Although its individual predictions are worse\n"
   ]
  },
  {
   "cell_type": "code",
   "execution_count": 38,
   "metadata": {},
   "outputs": [
    {
     "data": {
      "text/plain": [
       "(0.24562691167050144, 0.812747210824126, 4.23585889435388)"
      ]
     },
     "execution_count": 38,
     "metadata": {},
     "output_type": "execute_result"
    }
   ],
   "source": [
    "rawmodelperformance[0][0], rawmodelperformance[1][0], rawmodelperformance[2][0]"
   ]
  },
  {
   "cell_type": "code",
   "execution_count": 39,
   "metadata": {},
   "outputs": [
    {
     "data": {
      "image/png": "[encoded data removed]",
      "text/plain": [
       "<Figure size 432x288 with 1 Axes>"
      ]
     },
     "metadata": {
      "needs_background": "light"
     },
     "output_type": "display_data"
    }
   ],
   "source": [
    "for i in np.arange(5):\n",
    "    plt.bar(modelscoredict.keys(), [rawmodelperformance[0][i], \n",
    "                                    rawmodelperformance[1][i],\n",
    "                                    rawmodelperformance[2][i]], alpha = 0.5)\n",
    "plt.scatter(0, modelperformance[0])\n",
    "plt.scatter(1, modelperformance[1])\n",
    "plt.scatter(2, modelperformance[2])\n",
    "plt.title('Comparison of 5 Raw Prediction Scores with Means Shown');"
   ]
  },
  {
   "cell_type": "code",
   "execution_count": 40,
   "metadata": {},
   "outputs": [
    {
     "data": {
      "image/png": "[encoded data removed]",
      "text/plain": [
       "<Figure size 1200x320 with 5 Axes>"
      ]
     },
     "metadata": {
      "needs_background": "light"
     },
     "output_type": "display_data"
    }
   ],
   "source": [
    "#Now separately\n",
    "plt.figure(figsize=(15, 4), dpi=80)\n",
    "testnames = ['Worst Day', 'Best Day', 'Average Day', 'High School Average Day', 'Tomorrow Prediction']\n",
    "for i in np.arange(5):\n",
    "    plt.subplot(1, 5, i+1)\n",
    "    plt.bar(modelscoredict.keys(), [rawmodelperformance[0][i], \n",
    "                                    rawmodelperformance[1][i],\n",
    "                                    rawmodelperformance[2][i]], alpha = 0.5)\n",
    "    plt.title(testnames[i])\n",
    "    plt.axis((-0.5, 2.5, -4, 4))"
   ]
  }
 ],
 "metadata": {
  "kernelspec": {
   "display_name": "Python 3 (ipykernel)",
   "language": "python",
   "name": "python3"
  },
  "language_info": {
   "codemirror_mode": {
    "name": "ipython",
    "version": 3
   },
   "file_extension": ".py",
   "mimetype": "text/x-python",
   "name": "python",
   "nbconvert_exporter": "python",
   "pygments_lexer": "ipython3",
   "version": "3.8.10"
  }
 },
 "nbformat": 4,
 "nbformat_minor": 4
}
