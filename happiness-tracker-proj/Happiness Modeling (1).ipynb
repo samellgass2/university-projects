{
 "cells": [
  {
   "cell_type": "markdown",
   "metadata": {},
   "source": [
    "# Happiness Modeling (Summer 2021)\n",
    "This summer, I endeavored to try and use statistics + data science to evaluate how my daily choices affect my average happiness. After recording 11 features of my day, plus a **\"happiness\"** score, I'm now working on building a model that reflects both my perception of my days as well as the numerical relationship among my collected data."
   ]
  },
  {
   "cell_type": "markdown",
   "metadata": {},
   "source": [
    "## 1.0 - Simple Multiple Regression and Reading In Data"
   ]
  },
  {
   "cell_type": "code",
   "execution_count": 1,
   "metadata": {},
   "outputs": [],
   "source": [
    "import pandas as pd\n",
    "import numpy as np\n",
    "import matplotlib.pyplot as plt"
   ]
  },
  {
   "cell_type": "code",
   "execution_count": 2,
   "metadata": {},
   "outputs": [],
   "source": [
    "from sklearn import linear_model as lm"
   ]
  },
  {
   "cell_type": "code",
   "execution_count": 12,
   "metadata": {},
   "outputs": [
    {
     "data": {
      "text/html": [
       "<div>\n",
       "<style scoped>\n",
       "    .dataframe tbody tr th:only-of-type {\n",
       "        vertical-align: middle;\n",
       "    }\n",
       "\n",
       "    .dataframe tbody tr th {\n",
       "        vertical-align: top;\n",
       "    }\n",
       "\n",
       "    .dataframe thead th {\n",
       "        text-align: right;\n",
       "    }\n",
       "</style>\n",
       "<table border=\"1\" class=\"dataframe\">\n",
       "  <thead>\n",
       "    <tr style=\"text-align: right;\">\n",
       "      <th></th>\n",
       "      <th>People Seen</th>\n",
       "      <th>Meals Eaten</th>\n",
       "      <th>Catherine</th>\n",
       "      <th>Hours of sleep</th>\n",
       "      <th>Workout?</th>\n",
       "      <th>Hours of Classes</th>\n",
       "      <th>Hours of music</th>\n",
       "      <th>Weather (rain = 0 to sun = 1)</th>\n",
       "      <th>Average (Day) Temperature</th>\n",
       "      <th>Hours of project/internship</th>\n",
       "      <th>Happiness?</th>\n",
       "    </tr>\n",
       "  </thead>\n",
       "  <tbody>\n",
       "    <tr>\n",
       "      <th>count</th>\n",
       "      <td>35.000000</td>\n",
       "      <td>35.000000</td>\n",
       "      <td>35.000000</td>\n",
       "      <td>35.00000</td>\n",
       "      <td>35.000000</td>\n",
       "      <td>35.000000</td>\n",
       "      <td>35.000000</td>\n",
       "      <td>35.000000</td>\n",
       "      <td>35.000000</td>\n",
       "      <td>35.000000</td>\n",
       "      <td>35.000000</td>\n",
       "    </tr>\n",
       "    <tr>\n",
       "      <th>mean</th>\n",
       "      <td>32.171429</td>\n",
       "      <td>3.000000</td>\n",
       "      <td>0.628571</td>\n",
       "      <td>8.50000</td>\n",
       "      <td>0.371429</td>\n",
       "      <td>2.085714</td>\n",
       "      <td>0.742857</td>\n",
       "      <td>0.762857</td>\n",
       "      <td>76.600000</td>\n",
       "      <td>3.285714</td>\n",
       "      <td>7.771429</td>\n",
       "    </tr>\n",
       "    <tr>\n",
       "      <th>std</th>\n",
       "      <td>37.828938</td>\n",
       "      <td>0.594089</td>\n",
       "      <td>0.475006</td>\n",
       "      <td>0.83137</td>\n",
       "      <td>0.490241</td>\n",
       "      <td>1.437347</td>\n",
       "      <td>1.045800</td>\n",
       "      <td>0.150168</td>\n",
       "      <td>6.950243</td>\n",
       "      <td>3.169908</td>\n",
       "      <td>1.313632</td>\n",
       "    </tr>\n",
       "    <tr>\n",
       "      <th>min</th>\n",
       "      <td>4.000000</td>\n",
       "      <td>1.500000</td>\n",
       "      <td>0.000000</td>\n",
       "      <td>6.00000</td>\n",
       "      <td>0.000000</td>\n",
       "      <td>0.000000</td>\n",
       "      <td>0.000000</td>\n",
       "      <td>0.300000</td>\n",
       "      <td>62.000000</td>\n",
       "      <td>0.000000</td>\n",
       "      <td>4.000000</td>\n",
       "    </tr>\n",
       "    <tr>\n",
       "      <th>25%</th>\n",
       "      <td>12.500000</td>\n",
       "      <td>3.000000</td>\n",
       "      <td>0.000000</td>\n",
       "      <td>8.00000</td>\n",
       "      <td>0.000000</td>\n",
       "      <td>1.000000</td>\n",
       "      <td>0.000000</td>\n",
       "      <td>0.700000</td>\n",
       "      <td>70.000000</td>\n",
       "      <td>0.000000</td>\n",
       "      <td>7.000000</td>\n",
       "    </tr>\n",
       "    <tr>\n",
       "      <th>50%</th>\n",
       "      <td>20.000000</td>\n",
       "      <td>3.000000</td>\n",
       "      <td>1.000000</td>\n",
       "      <td>9.00000</td>\n",
       "      <td>0.000000</td>\n",
       "      <td>2.000000</td>\n",
       "      <td>0.000000</td>\n",
       "      <td>0.800000</td>\n",
       "      <td>75.000000</td>\n",
       "      <td>4.000000</td>\n",
       "      <td>8.000000</td>\n",
       "    </tr>\n",
       "    <tr>\n",
       "      <th>75%</th>\n",
       "      <td>30.000000</td>\n",
       "      <td>3.500000</td>\n",
       "      <td>1.000000</td>\n",
       "      <td>9.00000</td>\n",
       "      <td>1.000000</td>\n",
       "      <td>3.000000</td>\n",
       "      <td>1.000000</td>\n",
       "      <td>0.900000</td>\n",
       "      <td>80.000000</td>\n",
       "      <td>6.000000</td>\n",
       "      <td>9.000000</td>\n",
       "    </tr>\n",
       "    <tr>\n",
       "      <th>max</th>\n",
       "      <td>200.000000</td>\n",
       "      <td>4.000000</td>\n",
       "      <td>1.000000</td>\n",
       "      <td>10.00000</td>\n",
       "      <td>1.000000</td>\n",
       "      <td>5.000000</td>\n",
       "      <td>4.000000</td>\n",
       "      <td>1.000000</td>\n",
       "      <td>92.000000</td>\n",
       "      <td>8.000000</td>\n",
       "      <td>9.000000</td>\n",
       "    </tr>\n",
       "  </tbody>\n",
       "</table>\n",
       "</div>"
      ],
      "text/plain": [
       "       People Seen  Meals Eaten  Catherine  Hours of sleep   Workout?  \\\n",
       "count    35.000000    35.000000  35.000000        35.00000  35.000000   \n",
       "mean     32.171429     3.000000   0.628571         8.50000   0.371429   \n",
       "std      37.828938     0.594089   0.475006         0.83137   0.490241   \n",
       "min       4.000000     1.500000   0.000000         6.00000   0.000000   \n",
       "25%      12.500000     3.000000   0.000000         8.00000   0.000000   \n",
       "50%      20.000000     3.000000   1.000000         9.00000   0.000000   \n",
       "75%      30.000000     3.500000   1.000000         9.00000   1.000000   \n",
       "max     200.000000     4.000000   1.000000        10.00000   1.000000   \n",
       "\n",
       "       Hours of Classes  Hours of music  Weather (rain = 0 to sun = 1)  \\\n",
       "count         35.000000       35.000000                      35.000000   \n",
       "mean           2.085714        0.742857                       0.762857   \n",
       "std            1.437347        1.045800                       0.150168   \n",
       "min            0.000000        0.000000                       0.300000   \n",
       "25%            1.000000        0.000000                       0.700000   \n",
       "50%            2.000000        0.000000                       0.800000   \n",
       "75%            3.000000        1.000000                       0.900000   \n",
       "max            5.000000        4.000000                       1.000000   \n",
       "\n",
       "       Average (Day) Temperature  Hours of project/internship  Happiness?  \n",
       "count                  35.000000                    35.000000   35.000000  \n",
       "mean                   76.600000                     3.285714    7.771429  \n",
       "std                     6.950243                     3.169908    1.313632  \n",
       "min                    62.000000                     0.000000    4.000000  \n",
       "25%                    70.000000                     0.000000    7.000000  \n",
       "50%                    75.000000                     4.000000    8.000000  \n",
       "75%                    80.000000                     6.000000    9.000000  \n",
       "max                    92.000000                     8.000000    9.000000  "
      ]
     },
     "execution_count": 12,
     "metadata": {},
     "output_type": "execute_result"
    }
   ],
   "source": [
    "happiness = pd.read_csv('Responsibility Sheet - Happiness Tracking Raw Data (1).csv')\n",
    "happiness.describe()"
   ]
  },
  {
   "cell_type": "code",
   "execution_count": 13,
   "metadata": {},
   "outputs": [
    {
     "data": {
      "text/html": [
       "<div>\n",
       "<style scoped>\n",
       "    .dataframe tbody tr th:only-of-type {\n",
       "        vertical-align: middle;\n",
       "    }\n",
       "\n",
       "    .dataframe tbody tr th {\n",
       "        vertical-align: top;\n",
       "    }\n",
       "\n",
       "    .dataframe thead th {\n",
       "        text-align: right;\n",
       "    }\n",
       "</style>\n",
       "<table border=\"1\" class=\"dataframe\">\n",
       "  <thead>\n",
       "    <tr style=\"text-align: right;\">\n",
       "      <th></th>\n",
       "      <th>People Seen</th>\n",
       "      <th>Meals Eaten</th>\n",
       "      <th>Catherine</th>\n",
       "      <th>Hours of sleep</th>\n",
       "      <th>Workout?</th>\n",
       "      <th>Hours of Classes</th>\n",
       "      <th>Hours of music</th>\n",
       "      <th>Weather (rain = 0 to sun = 1)</th>\n",
       "      <th>Average (Day) Temperature</th>\n",
       "      <th>Hours of project/internship</th>\n",
       "      <th>Happiness?</th>\n",
       "    </tr>\n",
       "  </thead>\n",
       "  <tbody>\n",
       "    <tr>\n",
       "      <th>0</th>\n",
       "      <td>20</td>\n",
       "      <td>2.0</td>\n",
       "      <td>1.0</td>\n",
       "      <td>9.0</td>\n",
       "      <td>1</td>\n",
       "      <td>2.0</td>\n",
       "      <td>3.0</td>\n",
       "      <td>0.8</td>\n",
       "      <td>62</td>\n",
       "      <td>0.0</td>\n",
       "      <td>9.0</td>\n",
       "    </tr>\n",
       "    <tr>\n",
       "      <th>1</th>\n",
       "      <td>200</td>\n",
       "      <td>3.0</td>\n",
       "      <td>1.0</td>\n",
       "      <td>8.0</td>\n",
       "      <td>0</td>\n",
       "      <td>2.0</td>\n",
       "      <td>1.0</td>\n",
       "      <td>0.5</td>\n",
       "      <td>70</td>\n",
       "      <td>0.0</td>\n",
       "      <td>7.0</td>\n",
       "    </tr>\n",
       "    <tr>\n",
       "      <th>2</th>\n",
       "      <td>10</td>\n",
       "      <td>3.0</td>\n",
       "      <td>0.0</td>\n",
       "      <td>7.0</td>\n",
       "      <td>1</td>\n",
       "      <td>0.0</td>\n",
       "      <td>0.5</td>\n",
       "      <td>0.9</td>\n",
       "      <td>92</td>\n",
       "      <td>0.0</td>\n",
       "      <td>8.0</td>\n",
       "    </tr>\n",
       "    <tr>\n",
       "      <th>3</th>\n",
       "      <td>20</td>\n",
       "      <td>4.0</td>\n",
       "      <td>0.0</td>\n",
       "      <td>10.0</td>\n",
       "      <td>0</td>\n",
       "      <td>0.0</td>\n",
       "      <td>0.0</td>\n",
       "      <td>1.0</td>\n",
       "      <td>90</td>\n",
       "      <td>0.0</td>\n",
       "      <td>9.0</td>\n",
       "    </tr>\n",
       "    <tr>\n",
       "      <th>4</th>\n",
       "      <td>8</td>\n",
       "      <td>3.0</td>\n",
       "      <td>1.0</td>\n",
       "      <td>6.0</td>\n",
       "      <td>0</td>\n",
       "      <td>2.0</td>\n",
       "      <td>0.0</td>\n",
       "      <td>0.4</td>\n",
       "      <td>80</td>\n",
       "      <td>0.0</td>\n",
       "      <td>9.0</td>\n",
       "    </tr>\n",
       "  </tbody>\n",
       "</table>\n",
       "</div>"
      ],
      "text/plain": [
       "   People Seen  Meals Eaten  Catherine  Hours of sleep  Workout?  \\\n",
       "0           20          2.0        1.0             9.0         1   \n",
       "1          200          3.0        1.0             8.0         0   \n",
       "2           10          3.0        0.0             7.0         1   \n",
       "3           20          4.0        0.0            10.0         0   \n",
       "4            8          3.0        1.0             6.0         0   \n",
       "\n",
       "   Hours of Classes  Hours of music  Weather (rain = 0 to sun = 1)  \\\n",
       "0               2.0             3.0                            0.8   \n",
       "1               2.0             1.0                            0.5   \n",
       "2               0.0             0.5                            0.9   \n",
       "3               0.0             0.0                            1.0   \n",
       "4               2.0             0.0                            0.4   \n",
       "\n",
       "   Average (Day) Temperature  Hours of project/internship  Happiness?  \n",
       "0                         62                          0.0         9.0  \n",
       "1                         70                          0.0         7.0  \n",
       "2                         92                          0.0         8.0  \n",
       "3                         90                          0.0         9.0  \n",
       "4                         80                          0.0         9.0  "
      ]
     },
     "execution_count": 13,
     "metadata": {},
     "output_type": "execute_result"
    }
   ],
   "source": [
    "happiness = happiness.drop('Date', axis = 1)\n",
    "happiness.head()"
   ]
  },
  {
   "cell_type": "code",
   "execution_count": 14,
   "metadata": {},
   "outputs": [
    {
     "data": {
      "text/html": [
       "<div>\n",
       "<style scoped>\n",
       "    .dataframe tbody tr th:only-of-type {\n",
       "        vertical-align: middle;\n",
       "    }\n",
       "\n",
       "    .dataframe tbody tr th {\n",
       "        vertical-align: top;\n",
       "    }\n",
       "\n",
       "    .dataframe thead th {\n",
       "        text-align: right;\n",
       "    }\n",
       "</style>\n",
       "<table border=\"1\" class=\"dataframe\">\n",
       "  <thead>\n",
       "    <tr style=\"text-align: right;\">\n",
       "      <th></th>\n",
       "      <th>People Seen</th>\n",
       "      <th>Meals Eaten</th>\n",
       "      <th>Catherine</th>\n",
       "      <th>Hours of sleep</th>\n",
       "      <th>Workout?</th>\n",
       "      <th>Hours of Classes</th>\n",
       "      <th>Hours of music</th>\n",
       "      <th>Weather (rain = 0 to sun = 1)</th>\n",
       "      <th>Average (Day) Temperature</th>\n",
       "      <th>Hours of project/internship</th>\n",
       "    </tr>\n",
       "  </thead>\n",
       "  <tbody>\n",
       "    <tr>\n",
       "      <th>0</th>\n",
       "      <td>20</td>\n",
       "      <td>2.0</td>\n",
       "      <td>1.0</td>\n",
       "      <td>9.0</td>\n",
       "      <td>1</td>\n",
       "      <td>2.0</td>\n",
       "      <td>3.0</td>\n",
       "      <td>0.8</td>\n",
       "      <td>62</td>\n",
       "      <td>0.0</td>\n",
       "    </tr>\n",
       "    <tr>\n",
       "      <th>1</th>\n",
       "      <td>200</td>\n",
       "      <td>3.0</td>\n",
       "      <td>1.0</td>\n",
       "      <td>8.0</td>\n",
       "      <td>0</td>\n",
       "      <td>2.0</td>\n",
       "      <td>1.0</td>\n",
       "      <td>0.5</td>\n",
       "      <td>70</td>\n",
       "      <td>0.0</td>\n",
       "    </tr>\n",
       "    <tr>\n",
       "      <th>2</th>\n",
       "      <td>10</td>\n",
       "      <td>3.0</td>\n",
       "      <td>0.0</td>\n",
       "      <td>7.0</td>\n",
       "      <td>1</td>\n",
       "      <td>0.0</td>\n",
       "      <td>0.5</td>\n",
       "      <td>0.9</td>\n",
       "      <td>92</td>\n",
       "      <td>0.0</td>\n",
       "    </tr>\n",
       "    <tr>\n",
       "      <th>3</th>\n",
       "      <td>20</td>\n",
       "      <td>4.0</td>\n",
       "      <td>0.0</td>\n",
       "      <td>10.0</td>\n",
       "      <td>0</td>\n",
       "      <td>0.0</td>\n",
       "      <td>0.0</td>\n",
       "      <td>1.0</td>\n",
       "      <td>90</td>\n",
       "      <td>0.0</td>\n",
       "    </tr>\n",
       "    <tr>\n",
       "      <th>4</th>\n",
       "      <td>8</td>\n",
       "      <td>3.0</td>\n",
       "      <td>1.0</td>\n",
       "      <td>6.0</td>\n",
       "      <td>0</td>\n",
       "      <td>2.0</td>\n",
       "      <td>0.0</td>\n",
       "      <td>0.4</td>\n",
       "      <td>80</td>\n",
       "      <td>0.0</td>\n",
       "    </tr>\n",
       "  </tbody>\n",
       "</table>\n",
       "</div>"
      ],
      "text/plain": [
       "   People Seen  Meals Eaten  Catherine  Hours of sleep  Workout?  \\\n",
       "0           20          2.0        1.0             9.0         1   \n",
       "1          200          3.0        1.0             8.0         0   \n",
       "2           10          3.0        0.0             7.0         1   \n",
       "3           20          4.0        0.0            10.0         0   \n",
       "4            8          3.0        1.0             6.0         0   \n",
       "\n",
       "   Hours of Classes  Hours of music  Weather (rain = 0 to sun = 1)  \\\n",
       "0               2.0             3.0                            0.8   \n",
       "1               2.0             1.0                            0.5   \n",
       "2               0.0             0.5                            0.9   \n",
       "3               0.0             0.0                            1.0   \n",
       "4               2.0             0.0                            0.4   \n",
       "\n",
       "   Average (Day) Temperature  Hours of project/internship  \n",
       "0                         62                          0.0  \n",
       "1                         70                          0.0  \n",
       "2                         92                          0.0  \n",
       "3                         90                          0.0  \n",
       "4                         80                          0.0  "
      ]
     },
     "execution_count": 14,
     "metadata": {},
     "output_type": "execute_result"
    }
   ],
   "source": [
    "X = happiness.drop('Happiness?', axis = 1)\n",
    "X.head()"
   ]
  },
  {
   "cell_type": "code",
   "execution_count": 15,
   "metadata": {},
   "outputs": [],
   "source": [
    "y = happiness['Happiness?']"
   ]
  },
  {
   "cell_type": "code",
   "execution_count": 16,
   "metadata": {},
   "outputs": [],
   "source": [
    "cols = happiness.columns.tolist()"
   ]
  },
  {
   "cell_type": "code",
   "execution_count": 17,
   "metadata": {},
   "outputs": [],
   "source": [
    "model = lm.LinearRegression()"
   ]
  },
  {
   "cell_type": "code",
   "execution_count": 18,
   "metadata": {},
   "outputs": [
    {
     "data": {
      "text/plain": [
       "LinearRegression()"
      ]
     },
     "execution_count": 18,
     "metadata": {},
     "output_type": "execute_result"
    }
   ],
   "source": [
    "model.fit(X, y)"
   ]
  },
  {
   "cell_type": "code",
   "execution_count": 19,
   "metadata": {},
   "outputs": [
    {
     "data": {
      "text/plain": [
       "array([-0.00346198,  0.97488214,  0.59314289, -0.278469  ,  0.44655544,\n",
       "        0.02423806,  0.12286633,  1.75817728, -0.01601469, -0.15895293])"
      ]
     },
     "execution_count": 19,
     "metadata": {},
     "output_type": "execute_result"
    }
   ],
   "source": [
    "model.coef_"
   ]
  },
  {
   "cell_type": "code",
   "execution_count": 20,
   "metadata": {},
   "outputs": [
    {
     "name": "stdout",
     "output_type": "stream",
     "text": [
      "People Seen : -0.003461980507812812\n",
      "Meals Eaten : 0.9748821381671018\n",
      "Catherine : 0.5931428903471263\n",
      "Hours of sleep : -0.2784690000349242\n",
      "Workout? : 0.4465554367944105\n",
      "Hours of Classes : 0.024238061266047828\n",
      "Hours of music : 0.12286633219258714\n",
      "Weather (rain = 0 to sun = 1) : 1.7581772829006244\n",
      "Average (Day) Temperature : -0.016014689069799526\n",
      "Hours of project/internship : -0.15895293275696215\n",
      "with intercept = 7.052384596828146\n"
     ]
    }
   ],
   "source": [
    "for name, coef in zip(cols, model.coef_):\n",
    "    print(name, ':', coef)\n",
    "print('with intercept =', model.intercept_)"
   ]
  },
  {
   "cell_type": "code",
   "execution_count": 21,
   "metadata": {},
   "outputs": [
    {
     "data": {
      "text/html": [
       "<div>\n",
       "<style scoped>\n",
       "    .dataframe tbody tr th:only-of-type {\n",
       "        vertical-align: middle;\n",
       "    }\n",
       "\n",
       "    .dataframe tbody tr th {\n",
       "        vertical-align: top;\n",
       "    }\n",
       "\n",
       "    .dataframe thead th {\n",
       "        text-align: right;\n",
       "    }\n",
       "</style>\n",
       "<table border=\"1\" class=\"dataframe\">\n",
       "  <thead>\n",
       "    <tr style=\"text-align: right;\">\n",
       "      <th></th>\n",
       "      <th>People Seen</th>\n",
       "      <th>Meals Eaten</th>\n",
       "      <th>Hours of sleep</th>\n",
       "      <th>Workout?</th>\n",
       "      <th>Hours of Classes</th>\n",
       "      <th>Hours of music</th>\n",
       "      <th>Weather (rain = 0 to sun = 1)</th>\n",
       "      <th>Average (Day) Temperature</th>\n",
       "      <th>Hours of project/internship</th>\n",
       "      <th>Happiness?</th>\n",
       "    </tr>\n",
       "    <tr>\n",
       "      <th>Catherine</th>\n",
       "      <th></th>\n",
       "      <th></th>\n",
       "      <th></th>\n",
       "      <th></th>\n",
       "      <th></th>\n",
       "      <th></th>\n",
       "      <th></th>\n",
       "      <th></th>\n",
       "      <th></th>\n",
       "      <th></th>\n",
       "    </tr>\n",
       "  </thead>\n",
       "  <tbody>\n",
       "    <tr>\n",
       "      <th>0.0</th>\n",
       "      <td>24.666667</td>\n",
       "      <td>2.958333</td>\n",
       "      <td>8.583333</td>\n",
       "      <td>0.416667</td>\n",
       "      <td>2.583333</td>\n",
       "      <td>0.583333</td>\n",
       "      <td>0.741667</td>\n",
       "      <td>79.500000</td>\n",
       "      <td>4.000000</td>\n",
       "      <td>7.166667</td>\n",
       "    </tr>\n",
       "    <tr>\n",
       "      <th>0.5</th>\n",
       "      <td>17.500000</td>\n",
       "      <td>3.500000</td>\n",
       "      <td>8.500000</td>\n",
       "      <td>0.000000</td>\n",
       "      <td>1.500000</td>\n",
       "      <td>0.000000</td>\n",
       "      <td>0.725000</td>\n",
       "      <td>85.000000</td>\n",
       "      <td>2.500000</td>\n",
       "      <td>8.000000</td>\n",
       "    </tr>\n",
       "    <tr>\n",
       "      <th>1.0</th>\n",
       "      <td>37.857143</td>\n",
       "      <td>2.976190</td>\n",
       "      <td>8.452381</td>\n",
       "      <td>0.380952</td>\n",
       "      <td>1.857143</td>\n",
       "      <td>0.904762</td>\n",
       "      <td>0.778571</td>\n",
       "      <td>74.142857</td>\n",
       "      <td>2.952381</td>\n",
       "      <td>8.095238</td>\n",
       "    </tr>\n",
       "  </tbody>\n",
       "</table>\n",
       "</div>"
      ],
      "text/plain": [
       "           People Seen  Meals Eaten  Hours of sleep  Workout?  \\\n",
       "Catherine                                                       \n",
       "0.0          24.666667     2.958333        8.583333  0.416667   \n",
       "0.5          17.500000     3.500000        8.500000  0.000000   \n",
       "1.0          37.857143     2.976190        8.452381  0.380952   \n",
       "\n",
       "           Hours of Classes  Hours of music  Weather (rain = 0 to sun = 1)  \\\n",
       "Catherine                                                                    \n",
       "0.0                2.583333        0.583333                       0.741667   \n",
       "0.5                1.500000        0.000000                       0.725000   \n",
       "1.0                1.857143        0.904762                       0.778571   \n",
       "\n",
       "           Average (Day) Temperature  Hours of project/internship  Happiness?  \n",
       "Catherine                                                                      \n",
       "0.0                        79.500000                     4.000000    7.166667  \n",
       "0.5                        85.000000                     2.500000    8.000000  \n",
       "1.0                        74.142857                     2.952381    8.095238  "
      ]
     },
     "execution_count": 21,
     "metadata": {},
     "output_type": "execute_result"
    }
   ],
   "source": [
    "cathpiness = happiness.groupby('Catherine').mean()\n",
    "cathpiness"
   ]
  },
  {
   "cell_type": "code",
   "execution_count": 22,
   "metadata": {},
   "outputs": [
    {
     "data": {
      "text/html": [
       "<div>\n",
       "<style scoped>\n",
       "    .dataframe tbody tr th:only-of-type {\n",
       "        vertical-align: middle;\n",
       "    }\n",
       "\n",
       "    .dataframe tbody tr th {\n",
       "        vertical-align: top;\n",
       "    }\n",
       "\n",
       "    .dataframe thead th {\n",
       "        text-align: right;\n",
       "    }\n",
       "</style>\n",
       "<table border=\"1\" class=\"dataframe\">\n",
       "  <thead>\n",
       "    <tr style=\"text-align: right;\">\n",
       "      <th></th>\n",
       "      <th>People Seen</th>\n",
       "      <th>Meals Eaten</th>\n",
       "      <th>Catherine</th>\n",
       "      <th>Hours of sleep</th>\n",
       "      <th>Workout?</th>\n",
       "      <th>Hours of Classes</th>\n",
       "      <th>Hours of music</th>\n",
       "      <th>Weather (rain = 0 to sun = 1)</th>\n",
       "      <th>Average (Day) Temperature</th>\n",
       "      <th>Hours of project/internship</th>\n",
       "      <th>Happiness?</th>\n",
       "    </tr>\n",
       "    <tr>\n",
       "      <th>Adjusted Catherine</th>\n",
       "      <th></th>\n",
       "      <th></th>\n",
       "      <th></th>\n",
       "      <th></th>\n",
       "      <th></th>\n",
       "      <th></th>\n",
       "      <th></th>\n",
       "      <th></th>\n",
       "      <th></th>\n",
       "      <th></th>\n",
       "      <th></th>\n",
       "    </tr>\n",
       "  </thead>\n",
       "  <tbody>\n",
       "    <tr>\n",
       "      <th>0.0</th>\n",
       "      <td>23.642857</td>\n",
       "      <td>3.035714</td>\n",
       "      <td>0.071429</td>\n",
       "      <td>8.571429</td>\n",
       "      <td>0.357143</td>\n",
       "      <td>2.428571</td>\n",
       "      <td>0.500000</td>\n",
       "      <td>0.739286</td>\n",
       "      <td>80.285714</td>\n",
       "      <td>3.785714</td>\n",
       "      <td>7.285714</td>\n",
       "    </tr>\n",
       "    <tr>\n",
       "      <th>1.0</th>\n",
       "      <td>37.857143</td>\n",
       "      <td>2.976190</td>\n",
       "      <td>1.000000</td>\n",
       "      <td>8.452381</td>\n",
       "      <td>0.380952</td>\n",
       "      <td>1.857143</td>\n",
       "      <td>0.904762</td>\n",
       "      <td>0.778571</td>\n",
       "      <td>74.142857</td>\n",
       "      <td>2.952381</td>\n",
       "      <td>8.095238</td>\n",
       "    </tr>\n",
       "  </tbody>\n",
       "</table>\n",
       "</div>"
      ],
      "text/plain": [
       "                    People Seen  Meals Eaten  Catherine  Hours of sleep  \\\n",
       "Adjusted Catherine                                                        \n",
       "0.0                   23.642857     3.035714   0.071429        8.571429   \n",
       "1.0                   37.857143     2.976190   1.000000        8.452381   \n",
       "\n",
       "                    Workout?  Hours of Classes  Hours of music  \\\n",
       "Adjusted Catherine                                               \n",
       "0.0                 0.357143          2.428571        0.500000   \n",
       "1.0                 0.380952          1.857143        0.904762   \n",
       "\n",
       "                    Weather (rain = 0 to sun = 1)  Average (Day) Temperature  \\\n",
       "Adjusted Catherine                                                             \n",
       "0.0                                      0.739286                  80.285714   \n",
       "1.0                                      0.778571                  74.142857   \n",
       "\n",
       "                    Hours of project/internship  Happiness?  \n",
       "Adjusted Catherine                                           \n",
       "0.0                                    3.785714    7.285714  \n",
       "1.0                                    2.952381    8.095238  "
      ]
     },
     "execution_count": 22,
     "metadata": {},
     "output_type": "execute_result"
    }
   ],
   "source": [
    "# There are too few 0.5's for them to be their own class, so they're reasonably being absorbed by class 0\n",
    "happiness2 = happiness.copy()\n",
    "happiness2['Adjusted Catherine'] = happiness2['Catherine'].replace(0.5, 0)\n",
    "happiness2.groupby('Adjusted Catherine').mean()"
   ]
  },
  {
   "cell_type": "code",
   "execution_count": 23,
   "metadata": {},
   "outputs": [
    {
     "data": {
      "text/plain": [
       "Text(0.5, 1.0, 'Singular Values of Happiness')"
      ]
     },
     "execution_count": 23,
     "metadata": {},
     "output_type": "execute_result"
    },
    {
     "data": {
      "image/png": "[encoded data removed]",
      "text/plain": [
       "<Figure size 432x288 with 1 Axes>"
      ]
     },
     "metadata": {
      "needs_background": "light"
     },
     "output_type": "display_data"
    }
   ],
   "source": [
    "plt.stem(model.singular_)\n",
    "plt.title('Singular Values of Happiness')"
   ]
  },
  {
   "cell_type": "markdown",
   "metadata": {},
   "source": [
    "## 2.0 - Pivoting to More Advanced Modeling"
   ]
  },
  {
   "cell_type": "code",
   "execution_count": 24,
   "metadata": {},
   "outputs": [],
   "source": [
    "def comparemodels():\n",
    "    plt.bar(modelscoredict.keys(), modelscoredict.values())\n",
    "    plt.title('R^2 Values for All Models So Far');\n",
    "    \n",
    "def addmodel(name, model):\n",
    "    modelscoredict[name] = model.score(X, y)"
   ]
  },
  {
   "cell_type": "code",
   "execution_count": 25,
   "metadata": {},
   "outputs": [],
   "source": [
    "ridgemodel = lm.Ridge()"
   ]
  },
  {
   "cell_type": "code",
   "execution_count": 26,
   "metadata": {},
   "outputs": [
    {
     "data": {
      "text/plain": [
       "Ridge()"
      ]
     },
     "execution_count": 26,
     "metadata": {},
     "output_type": "execute_result"
    }
   ],
   "source": [
    "ridgemodel.fit(X, y)"
   ]
  },
  {
   "cell_type": "code",
   "execution_count": 27,
   "metadata": {},
   "outputs": [
    {
     "data": {
      "text/plain": [
       "array([-0.00453249,  0.9439981 ,  0.55645679, -0.26025388,  0.38239457,\n",
       "       -0.03098545,  0.13635724,  0.66618246, -0.01553825, -0.13976937])"
      ]
     },
     "execution_count": 27,
     "metadata": {},
     "output_type": "execute_result"
    }
   ],
   "source": [
    "ridgemodel.coef_"
   ]
  },
  {
   "cell_type": "code",
   "execution_count": 28,
   "metadata": {},
   "outputs": [
    {
     "data": {
      "text/plain": [
       "0.5501270353578023"
      ]
     },
     "execution_count": 28,
     "metadata": {},
     "output_type": "execute_result"
    }
   ],
   "source": [
    "modelscoredict = {}\n",
    "addmodel('Least Squares', model)\n",
    "model.score(X,y)"
   ]
  },
  {
   "cell_type": "code",
   "execution_count": 29,
   "metadata": {},
   "outputs": [
    {
     "data": {
      "text/plain": [
       "0.5363989746189898"
      ]
     },
     "execution_count": 29,
     "metadata": {},
     "output_type": "execute_result"
    }
   ],
   "source": [
    "addmodel('Ridge', ridgemodel)\n",
    "ridgemodel.score(X, y)"
   ]
  },
  {
   "cell_type": "code",
   "execution_count": 30,
   "metadata": {},
   "outputs": [
    {
     "name": "stdout",
     "output_type": "stream",
     "text": [
      "Average (Day) Temperature  had the largest change, from  -0.016014689069799526  to  -0.015538250110524928\n"
     ]
    },
    {
     "data": {
      "image/png": "[encoded data removed]",
      "text/plain": [
       "<Figure size 432x288 with 1 Axes>"
      ]
     },
     "metadata": {
      "needs_background": "light"
     },
     "output_type": "display_data"
    }
   ],
   "source": [
    "plt.stem(ridgemodel.coef_ - model.coef_)\n",
    "print(cols[8] , ' had the largest change, from ', model.coef_[8], ' to ', ridgemodel.coef_[8])"
   ]
  },
  {
   "cell_type": "code",
   "execution_count": 31,
   "metadata": {},
   "outputs": [
    {
     "data": {
      "text/plain": [
       "Text(0.5, 1.0, 'Least Squares Coefficients vs. Ridge Coefficients')"
      ]
     },
     "execution_count": 31,
     "metadata": {},
     "output_type": "execute_result"
    },
    {
     "data": {
      "image/png": "[encoded data removed]",
      "text/plain": [
       "<Figure size 432x288 with 1 Axes>"
      ]
     },
     "metadata": {
      "needs_background": "light"
     },
     "output_type": "display_data"
    }
   ],
   "source": [
    "plt.scatter(model.coef_, ridgemodel.coef_)\n",
    "plt.title('Least Squares Coefficients vs. Ridge Coefficients')"
   ]
  },
  {
   "cell_type": "code",
   "execution_count": 32,
   "metadata": {},
   "outputs": [
    {
     "name": "stdout",
     "output_type": "stream",
     "text": [
      "People Seen : -0.004532488758127473\n",
      "Meals Eaten : 0.9439981037857401\n",
      "Catherine : 0.5564567936256996\n",
      "Hours of sleep : -0.260253879938846\n",
      "Workout? : 0.3823945660488652\n",
      "Hours of Classes : -0.03098544796799061\n",
      "Hours of music : 0.13635724158681367\n",
      "Weather (rain = 0 to sun = 1) : 0.6661824561415302\n",
      "Average (Day) Temperature : -0.015538250110524928\n",
      "Hours of project/internship : -0.1397693654504554\n",
      "with intercept = 7.910206723488625\n"
     ]
    }
   ],
   "source": [
    "for name, coef in zip(cols, ridgemodel.coef_):\n",
    "    print(name, ':', coef)\n",
    "print('with intercept =', ridgemodel.intercept_)"
   ]
  },
  {
   "cell_type": "code",
   "execution_count": 33,
   "metadata": {},
   "outputs": [],
   "source": [
    "elasticmodel = lm.ElasticNet()"
   ]
  },
  {
   "cell_type": "code",
   "execution_count": 34,
   "metadata": {},
   "outputs": [
    {
     "data": {
      "text/plain": [
       "ElasticNet()"
      ]
     },
     "execution_count": 34,
     "metadata": {},
     "output_type": "execute_result"
    }
   ],
   "source": [
    "elasticmodel.fit(X, y)"
   ]
  },
  {
   "cell_type": "code",
   "execution_count": 35,
   "metadata": {},
   "outputs": [
    {
     "data": {
      "text/plain": [
       "array([-0.00480327,  0.        ,  0.        , -0.        ,  0.        ,\n",
       "       -0.        ,  0.        ,  0.        , -0.03384132, -0.05963745])"
      ]
     },
     "execution_count": 35,
     "metadata": {},
     "output_type": "execute_result"
    }
   ],
   "source": [
    "elasticmodel.coef_"
   ]
  },
  {
   "cell_type": "code",
   "execution_count": 36,
   "metadata": {},
   "outputs": [
    {
     "data": {
      "text/plain": [
       "0.10423478480536941"
      ]
     },
     "execution_count": 36,
     "metadata": {},
     "output_type": "execute_result"
    }
   ],
   "source": [
    "addmodel('Elastic', elasticmodel)\n",
    "elasticmodel.score(X, y)"
   ]
  },
  {
   "cell_type": "code",
   "execution_count": 37,
   "metadata": {},
   "outputs": [
    {
     "data": {
      "text/plain": [
       "5"
      ]
     },
     "execution_count": 37,
     "metadata": {},
     "output_type": "execute_result"
    }
   ],
   "source": [
    "testarr = [1,2,3,4,5,6]\n",
    "testarr.index(max(testarr))"
   ]
  },
  {
   "cell_type": "code",
   "execution_count": 38,
   "metadata": {},
   "outputs": [
    {
     "name": "stdout",
     "output_type": "stream",
     "text": [
      "Weather (rain = 0 to sun = 1)  had the largest change, from  1.7581772829006244  to  0.0\n"
     ]
    },
    {
     "data": {
      "image/png": "[encoded data removed]",
      "text/plain": [
       "<Figure size 432x288 with 1 Axes>"
      ]
     },
     "metadata": {
      "needs_background": "light"
     },
     "output_type": "display_data"
    }
   ],
   "source": [
    "changes = elasticmodel.coef_ - model.coef_\n",
    "plt.stem(changes);\n",
    "changesmag = (abs(changes)).tolist()\n",
    "biggestdiff = changesmag.index(max(changesmag))\n",
    "print(cols[biggestdiff] , ' had the largest change, from ', model.coef_.tolist()[biggestdiff], ' to ', elasticmodel.coef_.tolist()[biggestdiff])"
   ]
  },
  {
   "cell_type": "code",
   "execution_count": 39,
   "metadata": {},
   "outputs": [
    {
     "name": "stdout",
     "output_type": "stream",
     "text": [
      "Meals Eaten  had the largest change, from  0.9439981037857401  to  0.0\n"
     ]
    },
    {
     "data": {
      "image/png": "[encoded data removed]",
      "text/plain": [
       "<Figure size 432x288 with 1 Axes>"
      ]
     },
     "metadata": {
      "needs_background": "light"
     },
     "output_type": "display_data"
    }
   ],
   "source": [
    "changes = elasticmodel.coef_ - ridgemodel.coef_\n",
    "plt.stem(changes);\n",
    "changesmag = (abs(changes)).tolist()\n",
    "biggestdiff = changesmag.index(max(changesmag))\n",
    "print(cols[biggestdiff] , ' had the largest change, from ', ridgemodel.coef_.tolist()[biggestdiff], ' to ', elasticmodel.coef_.tolist()[biggestdiff])"
   ]
  },
  {
   "cell_type": "code",
   "execution_count": 40,
   "metadata": {},
   "outputs": [
    {
     "data": {
      "image/png": "[encoded data removed]",
      "text/plain": [
       "<Figure size 432x288 with 1 Axes>"
      ]
     },
     "metadata": {
      "needs_background": "light"
     },
     "output_type": "display_data"
    }
   ],
   "source": [
    "comparemodels()"
   ]
  },
  {
   "cell_type": "code",
   "execution_count": 41,
   "metadata": {},
   "outputs": [
    {
     "name": "stdout",
     "output_type": "stream",
     "text": [
      "People Seen : -0.004803266444739322\n",
      "Meals Eaten : 0.0\n",
      "Catherine : 0.0\n",
      "Hours of sleep : -0.0\n",
      "Workout? : 0.0\n",
      "Hours of Classes : -0.0\n",
      "Hours of music : 0.0\n",
      "Weather (rain = 0 to sun = 1) : 0.0\n",
      "Average (Day) Temperature : -0.033841318690431374\n",
      "Hours of project/internship : -0.059637454868311894\n",
      "with intercept = 7.910206723488625\n"
     ]
    }
   ],
   "source": [
    "for name, coef in zip(cols, elasticmodel.coef_):\n",
    "    print(name, ':', coef)\n",
    "print('with intercept =', ridgemodel.intercept_)"
   ]
  },
  {
   "cell_type": "markdown",
   "metadata": {},
   "source": [
    "## 3.0 - Testing the Models"
   ]
  },
  {
   "cell_type": "code",
   "execution_count": 46,
   "metadata": {},
   "outputs": [],
   "source": [
    "# Extreme test cases and Regular test cases to Explore general Viability\n",
    "myworstday = np.array([0, 1, 0, 5, 0, 10, 0, 0, 30, 10]).reshape(1, -1)\n",
    "mybestday = np.array([100, 3, 1, 9, 1, 5, 2, 1, 70, 0]).reshape(1, -1)\n",
    "anaverageday = np.array([40, 3, 1, 8, 1, 8, 1, 0.8, 75, 0]).reshape(1, -1)\n",
    "highschoolavg = np.array([50, 3, 0, 8, 0, 6, 2, 0.7, 90, 0]).reshape(1, -1)\n",
    "tomorrowprob = np.array([20, 3, 1, 9, 1, 2, 1, 0.8, 70, 7]).reshape(1, -1)\n",
    "tests = [myworstday, mybestday, anaverageday, highschoolavg, tomorrowprob]\n",
    "target = np.array([5, 10, 8, 8, 9])"
   ]
  },
  {
   "cell_type": "code",
   "execution_count": 47,
   "metadata": {},
   "outputs": [
    {
     "data": {
      "text/plain": [
       "4.807332347817498"
      ]
     },
     "execution_count": 47,
     "metadata": {},
     "output_type": "execute_result"
    }
   ],
   "source": [
    "model.predict(myworstday)[0]"
   ]
  },
  {
   "cell_type": "code",
   "execution_count": 48,
   "metadata": {},
   "outputs": [
    {
     "data": {
      "text/plain": [
       "5"
      ]
     },
     "execution_count": 48,
     "metadata": {},
     "output_type": "execute_result"
    }
   ],
   "source": [
    "target[tests.index(myworstday)]"
   ]
  },
  {
   "cell_type": "code",
   "execution_count": 49,
   "metadata": {},
   "outputs": [],
   "source": [
    "modelperformance = []\n",
    "rawmodelperformance = []\n",
    "for arch in [model, ridgemodel, elasticmodel]:\n",
    "    temp = 0\n",
    "    templist = []\n",
    "    targetindex = 0\n",
    "    for arr in tests:\n",
    "        score = arch.predict(arr)[0] - target[targetindex]\n",
    "        temp += score\n",
    "        templist.append(score)\n",
    "        targetindex += 1\n",
    "    modelperformance.append(temp)\n",
    "    rawmodelperformance.append(templist)"
   ]
  },
  {
   "cell_type": "code",
   "execution_count": 50,
   "metadata": {},
   "outputs": [
    {
     "data": {
      "image/png": "[encoded data removed]",
      "text/plain": [
       "<Figure size 432x288 with 1 Axes>"
      ]
     },
     "metadata": {
      "needs_background": "light"
     },
     "output_type": "display_data"
    }
   ],
   "source": [
    "plt.bar(modelscoredict.keys(), modelperformance)\n",
    "plt.title('Performance of the 3 Models on 5 Test Points');"
   ]
  },
  {
   "cell_type": "code",
   "execution_count": 51,
   "metadata": {},
   "outputs": [],
   "source": [
    "# Interestingly enough, Elastic actually performs best in the long run! Although its individual predictions are worse\n"
   ]
  },
  {
   "cell_type": "code",
   "execution_count": 52,
   "metadata": {},
   "outputs": [
    {
     "data": {
      "text/plain": [
       "(-0.19266765218250193, 0.3792397900799269, 4.102539054480479)"
      ]
     },
     "execution_count": 52,
     "metadata": {},
     "output_type": "execute_result"
    }
   ],
   "source": [
    "rawmodelperformance[0][0], rawmodelperformance[1][0], rawmodelperformance[2][0]"
   ]
  },
  {
   "cell_type": "code",
   "execution_count": 53,
   "metadata": {},
   "outputs": [
    {
     "data": {
      "image/png": "[encoded data removed]",
      "text/plain": [
       "<Figure size 432x288 with 1 Axes>"
      ]
     },
     "metadata": {
      "needs_background": "light"
     },
     "output_type": "display_data"
    }
   ],
   "source": [
    "for i in np.arange(5):\n",
    "    plt.bar(modelscoredict.keys(), [rawmodelperformance[0][i], \n",
    "                                    rawmodelperformance[1][i],\n",
    "                                    rawmodelperformance[2][i]], alpha = 0.5)\n",
    "plt.scatter(0, modelperformance[0])\n",
    "plt.scatter(1, modelperformance[1])\n",
    "plt.scatter(2, modelperformance[2])\n",
    "plt.title('Comparison of 5 Raw Prediction Scores with Means Shown');"
   ]
  },
  {
   "cell_type": "code",
   "execution_count": 54,
   "metadata": {},
   "outputs": [
    {
     "data": {
      "image/png": "[encoded data removed]",
      "text/plain": [
       "<Figure size 1200x320 with 5 Axes>"
      ]
     },
     "metadata": {
      "needs_background": "light"
     },
     "output_type": "display_data"
    }
   ],
   "source": [
    "#Now separately\n",
    "plt.figure(figsize=(15, 4), dpi=80)\n",
    "testnames = ['Worst Day', 'Best Day', 'Average Day', 'High School Average Day', 'Tomorrow Prediction']\n",
    "for i in np.arange(5):\n",
    "    plt.subplot(1, 5, i+1)\n",
    "    plt.bar(modelscoredict.keys(), [rawmodelperformance[0][i], \n",
    "                                    rawmodelperformance[1][i],\n",
    "                                    rawmodelperformance[2][i]], alpha = 0.5)\n",
    "    plt.title(testnames[i])\n",
    "    plt.axis((-0.5, 2.5, -4, 4))"
   ]
  },
  {
   "cell_type": "code",
   "execution_count": null,
   "metadata": {},
   "outputs": [],
   "source": []
  }
 ],
 "metadata": {
  "kernelspec": {
   "display_name": "Python 3 (ipykernel)",
   "language": "python",
   "name": "python3"
  },
  "language_info": {
   "codemirror_mode": {
    "name": "ipython",
    "version": 3
   },
   "file_extension": ".py",
   "mimetype": "text/x-python",
   "name": "python",
   "nbconvert_exporter": "python",
   "pygments_lexer": "ipython3",
   "version": "3.8.10"
  }
 },
 "nbformat": 4,
 "nbformat_minor": 4
}
